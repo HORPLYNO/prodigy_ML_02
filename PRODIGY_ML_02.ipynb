{
 "cells": [
  {
   "cell_type": "code",
   "execution_count": 1,
   "metadata": {},
   "outputs": [],
   "source": [
    "# import the neccsessary libraries\n",
    "import pandas as pd\n",
    "import matplotlib.pyplot as plt\n",
    "import seaborn as sns\n",
    "import plotly.express as px\n",
    "from sklearn.preprocessing import StandardScaler, LabelEncoder\n",
    "from sklearn.cluster import KMeans\n",
    "from sklearn.metrics import silhouette_score\n",
    "\n",
    "import os\n",
    "os.environ[\"OMP_NUM_THREADS\"] = \"1\"\n"
   ]
  },
  {
   "cell_type": "code",
   "execution_count": 2,
   "metadata": {},
   "outputs": [],
   "source": [
    "# Read the data from CSV file into a Pandas DataFrame\n",
    "df = pd.read_csv(\"Customer Purchasing Behaviors.csv\")\n"
   ]
  },
  {
   "cell_type": "code",
   "execution_count": 3,
   "metadata": {},
   "outputs": [
    {
     "data": {
      "text/html": [
       "<div>\n",
       "<style scoped>\n",
       "    .dataframe tbody tr th:only-of-type {\n",
       "        vertical-align: middle;\n",
       "    }\n",
       "\n",
       "    .dataframe tbody tr th {\n",
       "        vertical-align: top;\n",
       "    }\n",
       "\n",
       "    .dataframe thead th {\n",
       "        text-align: right;\n",
       "    }\n",
       "</style>\n",
       "<table border=\"1\" class=\"dataframe\">\n",
       "  <thead>\n",
       "    <tr style=\"text-align: right;\">\n",
       "      <th></th>\n",
       "      <th>user_id</th>\n",
       "      <th>age</th>\n",
       "      <th>annual_income</th>\n",
       "      <th>purchase_amount</th>\n",
       "      <th>loyalty_score</th>\n",
       "      <th>region</th>\n",
       "      <th>purchase_frequency</th>\n",
       "    </tr>\n",
       "  </thead>\n",
       "  <tbody>\n",
       "    <tr>\n",
       "      <th>0</th>\n",
       "      <td>1</td>\n",
       "      <td>25</td>\n",
       "      <td>45000</td>\n",
       "      <td>200</td>\n",
       "      <td>4.5</td>\n",
       "      <td>North</td>\n",
       "      <td>12</td>\n",
       "    </tr>\n",
       "    <tr>\n",
       "      <th>1</th>\n",
       "      <td>2</td>\n",
       "      <td>34</td>\n",
       "      <td>55000</td>\n",
       "      <td>350</td>\n",
       "      <td>7.0</td>\n",
       "      <td>South</td>\n",
       "      <td>18</td>\n",
       "    </tr>\n",
       "    <tr>\n",
       "      <th>2</th>\n",
       "      <td>3</td>\n",
       "      <td>45</td>\n",
       "      <td>65000</td>\n",
       "      <td>500</td>\n",
       "      <td>8.0</td>\n",
       "      <td>West</td>\n",
       "      <td>22</td>\n",
       "    </tr>\n",
       "    <tr>\n",
       "      <th>3</th>\n",
       "      <td>4</td>\n",
       "      <td>22</td>\n",
       "      <td>30000</td>\n",
       "      <td>150</td>\n",
       "      <td>3.0</td>\n",
       "      <td>East</td>\n",
       "      <td>10</td>\n",
       "    </tr>\n",
       "    <tr>\n",
       "      <th>4</th>\n",
       "      <td>5</td>\n",
       "      <td>29</td>\n",
       "      <td>47000</td>\n",
       "      <td>220</td>\n",
       "      <td>4.8</td>\n",
       "      <td>North</td>\n",
       "      <td>13</td>\n",
       "    </tr>\n",
       "  </tbody>\n",
       "</table>\n",
       "</div>"
      ],
      "text/plain": [
       "   user_id  age  annual_income  purchase_amount  loyalty_score region  \\\n",
       "0        1   25          45000              200            4.5  North   \n",
       "1        2   34          55000              350            7.0  South   \n",
       "2        3   45          65000              500            8.0   West   \n",
       "3        4   22          30000              150            3.0   East   \n",
       "4        5   29          47000              220            4.8  North   \n",
       "\n",
       "   purchase_frequency  \n",
       "0                  12  \n",
       "1                  18  \n",
       "2                  22  \n",
       "3                  10  \n",
       "4                  13  "
      ]
     },
     "execution_count": 3,
     "metadata": {},
     "output_type": "execute_result"
    }
   ],
   "source": [
    "# display the first five rows\n",
    "df.head()"
   ]
  },
  {
   "cell_type": "code",
   "execution_count": 4,
   "metadata": {},
   "outputs": [
    {
     "data": {
      "text/plain": [
       "0"
      ]
     },
     "execution_count": 4,
     "metadata": {},
     "output_type": "execute_result"
    }
   ],
   "source": [
    "# check for dupicate values\n",
    "df.duplicated().sum()"
   ]
  },
  {
   "cell_type": "code",
   "execution_count": 5,
   "metadata": {},
   "outputs": [],
   "source": [
    "# drop the irrelevant columns\n",
    "df.drop(columns= ['user_id', 'region'],inplace=True)"
   ]
  },
  {
   "cell_type": "code",
   "execution_count": 6,
   "metadata": {},
   "outputs": [
    {
     "data": {
      "text/plain": [
       "(238, 5)"
      ]
     },
     "execution_count": 6,
     "metadata": {},
     "output_type": "execute_result"
    }
   ],
   "source": [
    "# check the dataset\n",
    "df.shape"
   ]
  },
  {
   "cell_type": "code",
   "execution_count": 7,
   "metadata": {},
   "outputs": [
    {
     "name": "stdout",
     "output_type": "stream",
     "text": [
      "<class 'pandas.core.frame.DataFrame'>\n",
      "RangeIndex: 238 entries, 0 to 237\n",
      "Data columns (total 5 columns):\n",
      " #   Column              Non-Null Count  Dtype  \n",
      "---  ------              --------------  -----  \n",
      " 0   age                 238 non-null    int64  \n",
      " 1   annual_income       238 non-null    int64  \n",
      " 2   purchase_amount     238 non-null    int64  \n",
      " 3   loyalty_score       238 non-null    float64\n",
      " 4   purchase_frequency  238 non-null    int64  \n",
      "dtypes: float64(1), int64(4)\n",
      "memory usage: 9.4 KB\n"
     ]
    }
   ],
   "source": [
    "# check the info\n",
    "df.info()"
   ]
  },
  {
   "cell_type": "code",
   "execution_count": 8,
   "metadata": {},
   "outputs": [
    {
     "data": {
      "text/html": [
       "<div>\n",
       "<style scoped>\n",
       "    .dataframe tbody tr th:only-of-type {\n",
       "        vertical-align: middle;\n",
       "    }\n",
       "\n",
       "    .dataframe tbody tr th {\n",
       "        vertical-align: top;\n",
       "    }\n",
       "\n",
       "    .dataframe thead th {\n",
       "        text-align: right;\n",
       "    }\n",
       "</style>\n",
       "<table border=\"1\" class=\"dataframe\">\n",
       "  <thead>\n",
       "    <tr style=\"text-align: right;\">\n",
       "      <th></th>\n",
       "      <th>age</th>\n",
       "      <th>annual_income</th>\n",
       "      <th>purchase_amount</th>\n",
       "      <th>loyalty_score</th>\n",
       "      <th>purchase_frequency</th>\n",
       "    </tr>\n",
       "  </thead>\n",
       "  <tbody>\n",
       "    <tr>\n",
       "      <th>count</th>\n",
       "      <td>238.000000</td>\n",
       "      <td>238.000000</td>\n",
       "      <td>238.000000</td>\n",
       "      <td>238.000000</td>\n",
       "      <td>238.000000</td>\n",
       "    </tr>\n",
       "    <tr>\n",
       "      <th>mean</th>\n",
       "      <td>38.676471</td>\n",
       "      <td>57407.563025</td>\n",
       "      <td>425.630252</td>\n",
       "      <td>6.794118</td>\n",
       "      <td>19.798319</td>\n",
       "    </tr>\n",
       "    <tr>\n",
       "      <th>std</th>\n",
       "      <td>9.351118</td>\n",
       "      <td>11403.875717</td>\n",
       "      <td>140.052062</td>\n",
       "      <td>1.899047</td>\n",
       "      <td>4.562884</td>\n",
       "    </tr>\n",
       "    <tr>\n",
       "      <th>min</th>\n",
       "      <td>22.000000</td>\n",
       "      <td>30000.000000</td>\n",
       "      <td>150.000000</td>\n",
       "      <td>3.000000</td>\n",
       "      <td>10.000000</td>\n",
       "    </tr>\n",
       "    <tr>\n",
       "      <th>25%</th>\n",
       "      <td>31.000000</td>\n",
       "      <td>50000.000000</td>\n",
       "      <td>320.000000</td>\n",
       "      <td>5.500000</td>\n",
       "      <td>17.000000</td>\n",
       "    </tr>\n",
       "    <tr>\n",
       "      <th>50%</th>\n",
       "      <td>39.000000</td>\n",
       "      <td>59000.000000</td>\n",
       "      <td>440.000000</td>\n",
       "      <td>7.000000</td>\n",
       "      <td>20.000000</td>\n",
       "    </tr>\n",
       "    <tr>\n",
       "      <th>75%</th>\n",
       "      <td>46.750000</td>\n",
       "      <td>66750.000000</td>\n",
       "      <td>527.500000</td>\n",
       "      <td>8.275000</td>\n",
       "      <td>23.000000</td>\n",
       "    </tr>\n",
       "    <tr>\n",
       "      <th>max</th>\n",
       "      <td>55.000000</td>\n",
       "      <td>75000.000000</td>\n",
       "      <td>640.000000</td>\n",
       "      <td>9.500000</td>\n",
       "      <td>28.000000</td>\n",
       "    </tr>\n",
       "  </tbody>\n",
       "</table>\n",
       "</div>"
      ],
      "text/plain": [
       "              age  annual_income  purchase_amount  loyalty_score  \\\n",
       "count  238.000000     238.000000       238.000000     238.000000   \n",
       "mean    38.676471   57407.563025       425.630252       6.794118   \n",
       "std      9.351118   11403.875717       140.052062       1.899047   \n",
       "min     22.000000   30000.000000       150.000000       3.000000   \n",
       "25%     31.000000   50000.000000       320.000000       5.500000   \n",
       "50%     39.000000   59000.000000       440.000000       7.000000   \n",
       "75%     46.750000   66750.000000       527.500000       8.275000   \n",
       "max     55.000000   75000.000000       640.000000       9.500000   \n",
       "\n",
       "       purchase_frequency  \n",
       "count          238.000000  \n",
       "mean            19.798319  \n",
       "std              4.562884  \n",
       "min             10.000000  \n",
       "25%             17.000000  \n",
       "50%             20.000000  \n",
       "75%             23.000000  \n",
       "max             28.000000  "
      ]
     },
     "execution_count": 8,
     "metadata": {},
     "output_type": "execute_result"
    }
   ],
   "source": [
    "# Get the descriptive statistics\n",
    "df.describe()"
   ]
  },
  {
   "cell_type": "code",
   "execution_count": 9,
   "metadata": {},
   "outputs": [
    {
     "data": {
      "text/plain": [
       "age                   0\n",
       "annual_income         0\n",
       "purchase_amount       0\n",
       "loyalty_score         0\n",
       "purchase_frequency    0\n",
       "dtype: int64"
      ]
     },
     "execution_count": 9,
     "metadata": {},
     "output_type": "execute_result"
    }
   ],
   "source": [
    "# check for null values\n",
    "df.isnull().sum()"
   ]
  },
  {
   "cell_type": "code",
   "execution_count": 10,
   "metadata": {},
   "outputs": [],
   "source": [
    "# Initialize the StandardScaler\n",
    "scaler = StandardScaler()\n",
    "\n",
    "# Scale the data\n",
    "scaled_df = scaler.fit_transform(df)\n",
    "\n",
    "# Convert the scaled data back into a DataFrame\n",
    "X = pd.DataFrame(scaled_df, columns=df.columns)"
   ]
  },
  {
   "cell_type": "code",
   "execution_count": 11,
   "metadata": {},
   "outputs": [
    {
     "data": {
      "text/html": [
       "<div>\n",
       "<style scoped>\n",
       "    .dataframe tbody tr th:only-of-type {\n",
       "        vertical-align: middle;\n",
       "    }\n",
       "\n",
       "    .dataframe tbody tr th {\n",
       "        vertical-align: top;\n",
       "    }\n",
       "\n",
       "    .dataframe thead th {\n",
       "        text-align: right;\n",
       "    }\n",
       "</style>\n",
       "<table border=\"1\" class=\"dataframe\">\n",
       "  <thead>\n",
       "    <tr style=\"text-align: right;\">\n",
       "      <th></th>\n",
       "      <th>age</th>\n",
       "      <th>annual_income</th>\n",
       "      <th>purchase_amount</th>\n",
       "      <th>loyalty_score</th>\n",
       "      <th>purchase_frequency</th>\n",
       "    </tr>\n",
       "  </thead>\n",
       "  <tbody>\n",
       "    <tr>\n",
       "      <th>0</th>\n",
       "      <td>-1.465632</td>\n",
       "      <td>-1.090306</td>\n",
       "      <td>-1.614441</td>\n",
       "      <td>-1.210582</td>\n",
       "      <td>-1.712679</td>\n",
       "    </tr>\n",
       "    <tr>\n",
       "      <th>1</th>\n",
       "      <td>-0.501151</td>\n",
       "      <td>-0.211563</td>\n",
       "      <td>-0.541153</td>\n",
       "      <td>0.108642</td>\n",
       "      <td>-0.394950</td>\n",
       "    </tr>\n",
       "    <tr>\n",
       "      <th>2</th>\n",
       "      <td>0.677658</td>\n",
       "      <td>0.667180</td>\n",
       "      <td>0.532134</td>\n",
       "      <td>0.636332</td>\n",
       "      <td>0.483536</td>\n",
       "    </tr>\n",
       "    <tr>\n",
       "      <th>3</th>\n",
       "      <td>-1.787125</td>\n",
       "      <td>-2.408420</td>\n",
       "      <td>-1.972203</td>\n",
       "      <td>-2.002117</td>\n",
       "      <td>-2.151922</td>\n",
       "    </tr>\n",
       "    <tr>\n",
       "      <th>4</th>\n",
       "      <td>-1.036974</td>\n",
       "      <td>-0.914557</td>\n",
       "      <td>-1.471336</td>\n",
       "      <td>-1.052275</td>\n",
       "      <td>-1.493057</td>\n",
       "    </tr>\n",
       "  </tbody>\n",
       "</table>\n",
       "</div>"
      ],
      "text/plain": [
       "        age  annual_income  purchase_amount  loyalty_score  purchase_frequency\n",
       "0 -1.465632      -1.090306        -1.614441      -1.210582           -1.712679\n",
       "1 -0.501151      -0.211563        -0.541153       0.108642           -0.394950\n",
       "2  0.677658       0.667180         0.532134       0.636332            0.483536\n",
       "3 -1.787125      -2.408420        -1.972203      -2.002117           -2.151922\n",
       "4 -1.036974      -0.914557        -1.471336      -1.052275           -1.493057"
      ]
     },
     "execution_count": 11,
     "metadata": {},
     "output_type": "execute_result"
    }
   ],
   "source": [
    "X.head()"
   ]
  },
  {
   "cell_type": "code",
   "execution_count": 12,
   "metadata": {},
   "outputs": [
    {
     "data": {
      "text/plain": [
       "<Axes: >"
      ]
     },
     "execution_count": 12,
     "metadata": {},
     "output_type": "execute_result"
    },
    {
     "data": {
      "image/png": "[encoded data removed]",
      "text/plain": [
       "<Figure size 640x480 with 2 Axes>"
      ]
     },
     "metadata": {},
     "output_type": "display_data"
    }
   ],
   "source": [
    "corr_matrix = X.corr(method = 'spearman')\n",
    "sns.heatmap(data=corr_matrix, annot=True, fmt='0.04f')"
   ]
  },
  {
   "cell_type": "markdown",
   "metadata": {},
   "source": []
  },
  {
   "cell_type": "code",
   "execution_count": 13,
   "metadata": {},
   "outputs": [
    {
     "data": {
      "application/vnd.plotly.v1+json": {
       "config": {
        "plotlyServerURL": "https://plot.ly"
       },
       "data": [
        {
         "hovertemplate": "purchase_frequency=%{x}<br>age=%{y}<extra></extra>",
         "legendgroup": "",
         "marker": {
          "color": "#636efa",
          "symbol": "circle"
         },
         "mode": "markers",
         "name": "",
         "orientation": "v",
         "showlegend": false,
         "type": "scatter",
         "x": [
          -1.7126785852739663,
          -0.39494958755240184,
          0.48353641092864114,
          -2.1519215845144877,
          -1.4930570856537055,
          0.2639149113083804,
          -0.17532808793214108,
          -1.2734355860334448,
          1.1424009097894234,
          -0.6145710871726626,
          -1.053814086413184,
          0.7031579105489019,
          -0.39494958755240184,
          0.044293411688119656,
          0.9227794101691627,
          -1.932300084894227,
          0.2639149113083804,
          -0.8341925867929233,
          0.48353641092864114,
          -1.2734355860334448,
          1.3620224094096842,
          -1.7126785852739663,
          0.2639149113083804,
          -0.17532808793214108,
          0.044293411688119656,
          0.7031579105489019,
          -0.39494958755240184,
          -1.053814086413184,
          1.1424009097894234,
          0.48353641092864114,
          -0.17532808793214108,
          0.2639149113083804,
          -0.8341925867929233,
          -1.2734355860334448,
          1.8012654086502056,
          -1.7126785852739663,
          0.9227794101691627,
          -0.6145710871726626,
          1.5816439090299448,
          -1.2734355860334448,
          0.2639149113083804,
          0.044293411688119656,
          0.48353641092864114,
          -0.39494958755240184,
          1.3620224094096842,
          -1.4930570856537055,
          0.2639149113083804,
          1.1424009097894234,
          -0.17532808793214108,
          -1.932300084894227,
          0.9227794101691627,
          -1.2734355860334448,
          0.48353641092864114,
          0.044293411688119656,
          0.044293411688119656,
          1.5816439090299448,
          -0.39494958755240184,
          -0.6145710871726626,
          0.7031579105489019,
          1.8012654086502056,
          -1.053814086413184,
          -0.39494958755240184,
          1.1424009097894234,
          -1.2734355860334448,
          0.2639149113083804,
          0.48353641092864114,
          1.1424009097894234,
          -1.932300084894227,
          0.9227794101691627,
          -0.8341925867929233,
          0.2639149113083804,
          0.044293411688119656,
          0.48353641092864114,
          -0.39494958755240184,
          1.3620224094096842,
          -1.2734355860334448,
          0.2639149113083804,
          1.1424009097894234,
          -0.17532808793214108,
          -1.932300084894227,
          0.9227794101691627,
          -1.2734355860334448,
          0.48353641092864114,
          0.044293411688119656,
          0.044293411688119656,
          1.5816439090299448,
          -0.39494958755240184,
          -0.6145710871726626,
          0.7031579105489019,
          1.8012654086502056,
          -1.053814086413184,
          -0.39494958755240184,
          1.1424009097894234,
          -1.2734355860334448,
          0.2639149113083804,
          0.48353641092864114,
          1.1424009097894234,
          -1.932300084894227,
          0.9227794101691627,
          -0.8341925867929233,
          0.2639149113083804,
          0.044293411688119656,
          0.48353641092864114,
          -0.39494958755240184,
          1.3620224094096842,
          -1.2734355860334448,
          0.2639149113083804,
          1.1424009097894234,
          -0.17532808793214108,
          -1.932300084894227,
          0.9227794101691627,
          -1.2734355860334448,
          0.48353641092864114,
          0.044293411688119656,
          0.044293411688119656,
          1.5816439090299448,
          -0.39494958755240184,
          -0.6145710871726626,
          0.7031579105489019,
          1.8012654086502056,
          -1.053814086413184,
          -0.39494958755240184,
          1.1424009097894234,
          -1.2734355860334448,
          0.2639149113083804,
          0.48353641092864114,
          1.1424009097894234,
          -1.932300084894227,
          0.9227794101691627,
          -0.8341925867929233,
          0.2639149113083804,
          0.044293411688119656,
          0.48353641092864114,
          -0.39494958755240184,
          1.3620224094096842,
          -1.2734355860334448,
          0.2639149113083804,
          1.1424009097894234,
          -0.17532808793214108,
          -1.932300084894227,
          0.9227794101691627,
          -1.2734355860334448,
          0.48353641092864114,
          0.044293411688119656,
          0.044293411688119656,
          1.5816439090299448,
          -0.39494958755240184,
          -0.6145710871726626,
          0.7031579105489019,
          1.8012654086502056,
          -1.053814086413184,
          -0.39494958755240184,
          1.1424009097894234,
          -1.2734355860334448,
          0.2639149113083804,
          0.48353641092864114,
          1.1424009097894234,
          -1.932300084894227,
          0.9227794101691627,
          -0.8341925867929233,
          0.2639149113083804,
          0.044293411688119656,
          0.48353641092864114,
          -0.39494958755240184,
          1.3620224094096842,
          -1.2734355860334448,
          0.2639149113083804,
          1.1424009097894234,
          -0.17532808793214108,
          -1.932300084894227,
          0.9227794101691627,
          -1.2734355860334448,
          0.48353641092864114,
          0.044293411688119656,
          0.044293411688119656,
          1.5816439090299448,
          -0.39494958755240184,
          -0.6145710871726626,
          0.7031579105489019,
          1.8012654086502056,
          -1.053814086413184,
          -0.39494958755240184,
          1.1424009097894234,
          -1.2734355860334448,
          0.2639149113083804,
          0.48353641092864114,
          1.1424009097894234,
          -1.932300084894227,
          0.9227794101691627,
          -0.8341925867929233,
          0.2639149113083804,
          0.044293411688119656,
          0.48353641092864114,
          -0.39494958755240184,
          1.3620224094096842,
          -1.2734355860334448,
          0.2639149113083804,
          1.1424009097894234,
          -0.17532808793214108,
          -1.932300084894227,
          0.9227794101691627,
          -1.2734355860334448,
          0.48353641092864114,
          0.044293411688119656,
          0.044293411688119656,
          1.5816439090299448,
          -0.39494958755240184,
          -0.6145710871726626,
          0.7031579105489019,
          1.8012654086502056,
          -1.053814086413184,
          -0.39494958755240184,
          1.1424009097894234,
          -1.2734355860334448,
          0.2639149113083804,
          0.48353641092864114,
          1.1424009097894234,
          -1.932300084894227,
          0.9227794101691627,
          -0.8341925867929233,
          0.2639149113083804,
          0.044293411688119656,
          0.48353641092864114,
          -0.39494958755240184,
          1.3620224094096842,
          -1.2734355860334448,
          0.2639149113083804,
          1.1424009097894234,
          -0.17532808793214108,
          -1.932300084894227,
          0.9227794101691627,
          -1.2734355860334448,
          0.48353641092864114,
          0.044293411688119656,
          0.044293411688119656,
          1.5816439090299448,
          -0.39494958755240184,
          -0.6145710871726626
         ],
         "xaxis": "x",
         "y": [
          -1.4656315255229964,
          -0.5011514248562505,
          0.677657587069772,
          -1.7871248924119114,
          -1.0369737030044426,
          0.24899976455121836,
          -0.2868225135969737,
          -1.2513026142637194,
          1.2134798652179641,
          -0.8226447917451658,
          -1.144138158634081,
          0.35616422018085675,
          -0.6083158804858889,
          -0.1796580579673353,
          1.1063154095883256,
          -1.6799604367822731,
          0.03467085329194153,
          -0.9298092473748042,
          0.7848220426994105,
          -1.3584670698933579,
          1.427808776477241,
          -1.5727959811526346,
          0.5704931314401336,
          -0.39398696922661214,
          -0.07249360233769689,
          0.8919864983290489,
          -0.7154803361155274,
          -1.0369737030044426,
          1.3206443208476024,
          0.14183530892157994,
          -0.5011514248562505,
          0.4633286758104952,
          -0.8226447917451658,
          -1.2513026142637194,
          1.7493021433661562,
          -1.4656315255229964,
          0.9991509539586872,
          -0.9298092473748042,
          1.5349732321068794,
          -1.144138158634081,
          0.03467085329194153,
          -0.1796580579673353,
          0.7848220426994105,
          -0.6083158804858889,
          1.427808776477241,
          -1.0369737030044426,
          0.24899976455121836,
          1.2134798652179641,
          -0.2868225135969737,
          -1.5727959811526346,
          1.1063154095883256,
          -1.3584670698933579,
          0.677657587069772,
          0.14183530892157994,
          -0.07249360233769689,
          1.6421376877365177,
          -0.7154803361155274,
          -0.8226447917451658,
          0.35616422018085675,
          1.7493021433661562,
          -1.0369737030044426,
          -0.6083158804858889,
          1.3206443208476024,
          -1.2513026142637194,
          0.4633286758104952,
          0.24899976455121836,
          1.2134798652179641,
          -1.5727959811526346,
          0.9991509539586872,
          -0.9298092473748042,
          0.03467085329194153,
          -0.1796580579673353,
          0.7848220426994105,
          -0.6083158804858889,
          1.427808776477241,
          -1.144138158634081,
          0.24899976455121836,
          1.2134798652179641,
          -0.2868225135969737,
          -1.5727959811526346,
          1.1063154095883256,
          -1.3584670698933579,
          0.677657587069772,
          0.14183530892157994,
          -0.07249360233769689,
          1.6421376877365177,
          -0.7154803361155274,
          -0.8226447917451658,
          0.35616422018085675,
          1.7493021433661562,
          -1.0369737030044426,
          -0.6083158804858889,
          1.3206443208476024,
          -1.2513026142637194,
          0.4633286758104952,
          0.24899976455121836,
          1.2134798652179641,
          -1.5727959811526346,
          0.9991509539586872,
          -0.9298092473748042,
          0.03467085329194153,
          -0.1796580579673353,
          0.7848220426994105,
          -0.6083158804858889,
          1.427808776477241,
          -1.144138158634081,
          0.24899976455121836,
          1.2134798652179641,
          -0.2868225135969737,
          -1.5727959811526346,
          1.1063154095883256,
          -1.3584670698933579,
          0.677657587069772,
          0.14183530892157994,
          -0.07249360233769689,
          1.6421376877365177,
          -0.7154803361155274,
          -0.8226447917451658,
          0.35616422018085675,
          1.7493021433661562,
          -1.0369737030044426,
          -0.6083158804858889,
          1.3206443208476024,
          -1.2513026142637194,
          0.4633286758104952,
          0.24899976455121836,
          1.2134798652179641,
          -1.5727959811526346,
          0.9991509539586872,
          -0.9298092473748042,
          0.03467085329194153,
          -0.1796580579673353,
          0.7848220426994105,
          -0.6083158804858889,
          1.427808776477241,
          -1.144138158634081,
          0.24899976455121836,
          1.2134798652179641,
          -0.2868225135969737,
          -1.5727959811526346,
          1.1063154095883256,
          -1.3584670698933579,
          0.677657587069772,
          0.14183530892157994,
          -0.07249360233769689,
          1.6421376877365177,
          -0.7154803361155274,
          -0.8226447917451658,
          0.35616422018085675,
          1.7493021433661562,
          -1.0369737030044426,
          -0.6083158804858889,
          1.3206443208476024,
          -1.2513026142637194,
          0.4633286758104952,
          0.24899976455121836,
          1.2134798652179641,
          -1.5727959811526346,
          0.9991509539586872,
          -0.9298092473748042,
          0.03467085329194153,
          -0.1796580579673353,
          0.7848220426994105,
          -0.6083158804858889,
          1.427808776477241,
          -1.144138158634081,
          0.24899976455121836,
          1.2134798652179641,
          -0.2868225135969737,
          -1.5727959811526346,
          1.1063154095883256,
          -1.3584670698933579,
          0.677657587069772,
          0.14183530892157994,
          -0.07249360233769689,
          1.6421376877365177,
          -0.7154803361155274,
          -0.8226447917451658,
          0.35616422018085675,
          1.7493021433661562,
          -1.0369737030044426,
          -0.6083158804858889,
          1.3206443208476024,
          -1.2513026142637194,
          0.4633286758104952,
          0.24899976455121836,
          1.2134798652179641,
          -1.5727959811526346,
          0.9991509539586872,
          -0.9298092473748042,
          0.03467085329194153,
          -0.1796580579673353,
          0.7848220426994105,
          -0.6083158804858889,
          1.427808776477241,
          -1.144138158634081,
          0.24899976455121836,
          1.2134798652179641,
          -0.2868225135969737,
          -1.5727959811526346,
          1.1063154095883256,
          -1.3584670698933579,
          0.677657587069772,
          0.14183530892157994,
          -0.07249360233769689,
          1.6421376877365177,
          -0.7154803361155274,
          -0.8226447917451658,
          0.35616422018085675,
          1.7493021433661562,
          -1.0369737030044426,
          -0.6083158804858889,
          1.3206443208476024,
          -1.2513026142637194,
          0.4633286758104952,
          0.24899976455121836,
          1.2134798652179641,
          -1.5727959811526346,
          0.9991509539586872,
          -0.9298092473748042,
          0.03467085329194153,
          -0.1796580579673353,
          0.7848220426994105,
          -0.6083158804858889,
          1.427808776477241,
          -1.144138158634081,
          0.24899976455121836,
          1.2134798652179641,
          -0.2868225135969737,
          -1.5727959811526346,
          1.1063154095883256,
          -1.3584670698933579,
          0.677657587069772,
          0.14183530892157994,
          -0.07249360233769689,
          1.6421376877365177,
          -0.7154803361155274,
          -0.8226447917451658
         ],
         "yaxis": "y"
        }
       ],
       "layout": {
        "legend": {
         "tracegroupgap": 0
        },
        "margin": {
         "t": 60
        },
        "template": {
         "data": {
          "bar": [
           {
            "error_x": {
             "color": "#2a3f5f"
            },
            "error_y": {
             "color": "#2a3f5f"
            },
            "marker": {
             "line": {
              "color": "#E5ECF6",
              "width": 0.5
             },
             "pattern": {
              "fillmode": "overlay",
              "size": 10,
              "solidity": 0.2
             }
            },
            "type": "bar"
           }
          ],
          "barpolar": [
           {
            "marker": {
             "line": {
              "color": "#E5ECF6",
              "width": 0.5
             },
             "pattern": {
              "fillmode": "overlay",
              "size": 10,
              "solidity": 0.2
             }
            },
            "type": "barpolar"
           }
          ],
          "carpet": [
           {
            "aaxis": {
             "endlinecolor": "#2a3f5f",
             "gridcolor": "white",
             "linecolor": "white",
             "minorgridcolor": "white",
             "startlinecolor": "#2a3f5f"
            },
            "baxis": {
             "endlinecolor": "#2a3f5f",
             "gridcolor": "white",
             "linecolor": "white",
             "minorgridcolor": "white",
             "startlinecolor": "#2a3f5f"
            },
            "type": "carpet"
           }
          ],
          "choropleth": [
           {
            "colorbar": {
             "outlinewidth": 0,
             "ticks": ""
            },
            "type": "choropleth"
           }
          ],
          "contour": [
           {
            "colorbar": {
             "outlinewidth": 0,
             "ticks": ""
            },
            "colorscale": [
             [
              0,
              "#0d0887"
             ],
             [
              0.1111111111111111,
              "#46039f"
             ],
             [
              0.2222222222222222,
              "#7201a8"
             ],
             [
              0.3333333333333333,
              "#9c179e"
             ],
             [
              0.4444444444444444,
              "#bd3786"
             ],
             [
              0.5555555555555556,
              "#d8576b"
             ],
             [
              0.6666666666666666,
              "#ed7953"
             ],
             [
              0.7777777777777778,
              "#fb9f3a"
             ],
             [
              0.8888888888888888,
              "#fdca26"
             ],
             [
              1,
              "#f0f921"
             ]
            ],
            "type": "contour"
           }
          ],
          "contourcarpet": [
           {
            "colorbar": {
             "outlinewidth": 0,
             "ticks": ""
            },
            "type": "contourcarpet"
           }
          ],
          "heatmap": [
           {
            "colorbar": {
             "outlinewidth": 0,
             "ticks": ""
            },
            "colorscale": [
             [
              0,
              "#0d0887"
             ],
             [
              0.1111111111111111,
              "#46039f"
             ],
             [
              0.2222222222222222,
              "#7201a8"
             ],
             [
              0.3333333333333333,
              "#9c179e"
             ],
             [
              0.4444444444444444,
              "#bd3786"
             ],
             [
              0.5555555555555556,
              "#d8576b"
             ],
             [
              0.6666666666666666,
              "#ed7953"
             ],
             [
              0.7777777777777778,
              "#fb9f3a"
             ],
             [
              0.8888888888888888,
              "#fdca26"
             ],
             [
              1,
              "#f0f921"
             ]
            ],
            "type": "heatmap"
           }
          ],
          "heatmapgl": [
           {
            "colorbar": {
             "outlinewidth": 0,
             "ticks": ""
            },
            "colorscale": [
             [
              0,
              "#0d0887"
             ],
             [
              0.1111111111111111,
              "#46039f"
             ],
             [
              0.2222222222222222,
              "#7201a8"
             ],
             [
              0.3333333333333333,
              "#9c179e"
             ],
             [
              0.4444444444444444,
              "#bd3786"
             ],
             [
              0.5555555555555556,
              "#d8576b"
             ],
             [
              0.6666666666666666,
              "#ed7953"
             ],
             [
              0.7777777777777778,
              "#fb9f3a"
             ],
             [
              0.8888888888888888,
              "#fdca26"
             ],
             [
              1,
              "#f0f921"
             ]
            ],
            "type": "heatmapgl"
           }
          ],
          "histogram": [
           {
            "marker": {
             "pattern": {
              "fillmode": "overlay",
              "size": 10,
              "solidity": 0.2
             }
            },
            "type": "histogram"
           }
          ],
          "histogram2d": [
           {
            "colorbar": {
             "outlinewidth": 0,
             "ticks": ""
            },
            "colorscale": [
             [
              0,
              "#0d0887"
             ],
             [
              0.1111111111111111,
              "#46039f"
             ],
             [
              0.2222222222222222,
              "#7201a8"
             ],
             [
              0.3333333333333333,
              "#9c179e"
             ],
             [
              0.4444444444444444,
              "#bd3786"
             ],
             [
              0.5555555555555556,
              "#d8576b"
             ],
             [
              0.6666666666666666,
              "#ed7953"
             ],
             [
              0.7777777777777778,
              "#fb9f3a"
             ],
             [
              0.8888888888888888,
              "#fdca26"
             ],
             [
              1,
              "#f0f921"
             ]
            ],
            "type": "histogram2d"
           }
          ],
          "histogram2dcontour": [
           {
            "colorbar": {
             "outlinewidth": 0,
             "ticks": ""
            },
            "colorscale": [
             [
              0,
              "#0d0887"
             ],
             [
              0.1111111111111111,
              "#46039f"
             ],
             [
              0.2222222222222222,
              "#7201a8"
             ],
             [
              0.3333333333333333,
              "#9c179e"
             ],
             [
              0.4444444444444444,
              "#bd3786"
             ],
             [
              0.5555555555555556,
              "#d8576b"
             ],
             [
              0.6666666666666666,
              "#ed7953"
             ],
             [
              0.7777777777777778,
              "#fb9f3a"
             ],
             [
              0.8888888888888888,
              "#fdca26"
             ],
             [
              1,
              "#f0f921"
             ]
            ],
            "type": "histogram2dcontour"
           }
          ],
          "mesh3d": [
           {
            "colorbar": {
             "outlinewidth": 0,
             "ticks": ""
            },
            "type": "mesh3d"
           }
          ],
          "parcoords": [
           {
            "line": {
             "colorbar": {
              "outlinewidth": 0,
              "ticks": ""
             }
            },
            "type": "parcoords"
           }
          ],
          "pie": [
           {
            "automargin": true,
            "type": "pie"
           }
          ],
          "scatter": [
           {
            "fillpattern": {
             "fillmode": "overlay",
             "size": 10,
             "solidity": 0.2
            },
            "type": "scatter"
           }
          ],
          "scatter3d": [
           {
            "line": {
             "colorbar": {
              "outlinewidth": 0,
              "ticks": ""
             }
            },
            "marker": {
             "colorbar": {
              "outlinewidth": 0,
              "ticks": ""
             }
            },
            "type": "scatter3d"
           }
          ],
          "scattercarpet": [
           {
            "marker": {
             "colorbar": {
              "outlinewidth": 0,
              "ticks": ""
             }
            },
            "type": "scattercarpet"
           }
          ],
          "scattergeo": [
           {
            "marker": {
             "colorbar": {
              "outlinewidth": 0,
              "ticks": ""
             }
            },
            "type": "scattergeo"
           }
          ],
          "scattergl": [
           {
            "marker": {
             "colorbar": {
              "outlinewidth": 0,
              "ticks": ""
             }
            },
            "type": "scattergl"
           }
          ],
          "scattermapbox": [
           {
            "marker": {
             "colorbar": {
              "outlinewidth": 0,
              "ticks": ""
             }
            },
            "type": "scattermapbox"
           }
          ],
          "scatterpolar": [
           {
            "marker": {
             "colorbar": {
              "outlinewidth": 0,
              "ticks": ""
             }
            },
            "type": "scatterpolar"
           }
          ],
          "scatterpolargl": [
           {
            "marker": {
             "colorbar": {
              "outlinewidth": 0,
              "ticks": ""
             }
            },
            "type": "scatterpolargl"
           }
          ],
          "scatterternary": [
           {
            "marker": {
             "colorbar": {
              "outlinewidth": 0,
              "ticks": ""
             }
            },
            "type": "scatterternary"
           }
          ],
          "surface": [
           {
            "colorbar": {
             "outlinewidth": 0,
             "ticks": ""
            },
            "colorscale": [
             [
              0,
              "#0d0887"
             ],
             [
              0.1111111111111111,
              "#46039f"
             ],
             [
              0.2222222222222222,
              "#7201a8"
             ],
             [
              0.3333333333333333,
              "#9c179e"
             ],
             [
              0.4444444444444444,
              "#bd3786"
             ],
             [
              0.5555555555555556,
              "#d8576b"
             ],
             [
              0.6666666666666666,
              "#ed7953"
             ],
             [
              0.7777777777777778,
              "#fb9f3a"
             ],
             [
              0.8888888888888888,
              "#fdca26"
             ],
             [
              1,
              "#f0f921"
             ]
            ],
            "type": "surface"
           }
          ],
          "table": [
           {
            "cells": {
             "fill": {
              "color": "#EBF0F8"
             },
             "line": {
              "color": "white"
             }
            },
            "header": {
             "fill": {
              "color": "#C8D4E3"
             },
             "line": {
              "color": "white"
             }
            },
            "type": "table"
           }
          ]
         },
         "layout": {
          "annotationdefaults": {
           "arrowcolor": "#2a3f5f",
           "arrowhead": 0,
           "arrowwidth": 1
          },
          "autotypenumbers": "strict",
          "coloraxis": {
           "colorbar": {
            "outlinewidth": 0,
            "ticks": ""
           }
          },
          "colorscale": {
           "diverging": [
            [
             0,
             "#8e0152"
            ],
            [
             0.1,
             "#c51b7d"
            ],
            [
             0.2,
             "#de77ae"
            ],
            [
             0.3,
             "#f1b6da"
            ],
            [
             0.4,
             "#fde0ef"
            ],
            [
             0.5,
             "#f7f7f7"
            ],
            [
             0.6,
             "#e6f5d0"
            ],
            [
             0.7,
             "#b8e186"
            ],
            [
             0.8,
             "#7fbc41"
            ],
            [
             0.9,
             "#4d9221"
            ],
            [
             1,
             "#276419"
            ]
           ],
           "sequential": [
            [
             0,
             "#0d0887"
            ],
            [
             0.1111111111111111,
             "#46039f"
            ],
            [
             0.2222222222222222,
             "#7201a8"
            ],
            [
             0.3333333333333333,
             "#9c179e"
            ],
            [
             0.4444444444444444,
             "#bd3786"
            ],
            [
             0.5555555555555556,
             "#d8576b"
            ],
            [
             0.6666666666666666,
             "#ed7953"
            ],
            [
             0.7777777777777778,
             "#fb9f3a"
            ],
            [
             0.8888888888888888,
             "#fdca26"
            ],
            [
             1,
             "#f0f921"
            ]
           ],
           "sequentialminus": [
            [
             0,
             "#0d0887"
            ],
            [
             0.1111111111111111,
             "#46039f"
            ],
            [
             0.2222222222222222,
             "#7201a8"
            ],
            [
             0.3333333333333333,
             "#9c179e"
            ],
            [
             0.4444444444444444,
             "#bd3786"
            ],
            [
             0.5555555555555556,
             "#d8576b"
            ],
            [
             0.6666666666666666,
             "#ed7953"
            ],
            [
             0.7777777777777778,
             "#fb9f3a"
            ],
            [
             0.8888888888888888,
             "#fdca26"
            ],
            [
             1,
             "#f0f921"
            ]
           ]
          },
          "colorway": [
           "#636efa",
           "#EF553B",
           "#00cc96",
           "#ab63fa",
           "#FFA15A",
           "#19d3f3",
           "#FF6692",
           "#B6E880",
           "#FF97FF",
           "#FECB52"
          ],
          "font": {
           "color": "#2a3f5f"
          },
          "geo": {
           "bgcolor": "white",
           "lakecolor": "white",
           "landcolor": "#E5ECF6",
           "showlakes": true,
           "showland": true,
           "subunitcolor": "white"
          },
          "hoverlabel": {
           "align": "left"
          },
          "hovermode": "closest",
          "mapbox": {
           "style": "light"
          },
          "paper_bgcolor": "white",
          "plot_bgcolor": "#E5ECF6",
          "polar": {
           "angularaxis": {
            "gridcolor": "white",
            "linecolor": "white",
            "ticks": ""
           },
           "bgcolor": "#E5ECF6",
           "radialaxis": {
            "gridcolor": "white",
            "linecolor": "white",
            "ticks": ""
           }
          },
          "scene": {
           "xaxis": {
            "backgroundcolor": "#E5ECF6",
            "gridcolor": "white",
            "gridwidth": 2,
            "linecolor": "white",
            "showbackground": true,
            "ticks": "",
            "zerolinecolor": "white"
           },
           "yaxis": {
            "backgroundcolor": "#E5ECF6",
            "gridcolor": "white",
            "gridwidth": 2,
            "linecolor": "white",
            "showbackground": true,
            "ticks": "",
            "zerolinecolor": "white"
           },
           "zaxis": {
            "backgroundcolor": "#E5ECF6",
            "gridcolor": "white",
            "gridwidth": 2,
            "linecolor": "white",
            "showbackground": true,
            "ticks": "",
            "zerolinecolor": "white"
           }
          },
          "shapedefaults": {
           "line": {
            "color": "#2a3f5f"
           }
          },
          "ternary": {
           "aaxis": {
            "gridcolor": "white",
            "linecolor": "white",
            "ticks": ""
           },
           "baxis": {
            "gridcolor": "white",
            "linecolor": "white",
            "ticks": ""
           },
           "bgcolor": "#E5ECF6",
           "caxis": {
            "gridcolor": "white",
            "linecolor": "white",
            "ticks": ""
           }
          },
          "title": {
           "x": 0.05
          },
          "xaxis": {
           "automargin": true,
           "gridcolor": "white",
           "linecolor": "white",
           "ticks": "",
           "title": {
            "standoff": 15
           },
           "zerolinecolor": "white",
           "zerolinewidth": 2
          },
          "yaxis": {
           "automargin": true,
           "gridcolor": "white",
           "linecolor": "white",
           "ticks": "",
           "title": {
            "standoff": 15
           },
           "zerolinecolor": "white",
           "zerolinewidth": 2
          }
         }
        },
        "width": 600,
        "xaxis": {
         "anchor": "y",
         "domain": [
          0,
          1
         ],
         "title": {
          "text": "purchase_frequency"
         }
        },
        "yaxis": {
         "anchor": "x",
         "domain": [
          0,
          1
         ],
         "title": {
          "text": "age"
         }
        }
       }
      }
     },
     "metadata": {},
     "output_type": "display_data"
    }
   ],
   "source": [
    "px.scatter(data_frame = X, y = 'age', x = 'purchase_frequency',\n",
    "                width = 600)"
   ]
  },
  {
   "cell_type": "markdown",
   "metadata": {},
   "source": [
    "## Clustering using K- means"
   ]
  },
  {
   "cell_type": "code",
   "execution_count": 14,
   "metadata": {},
   "outputs": [
    {
     "name": "stderr",
     "output_type": "stream",
     "text": [
      "c:\\Users\\Lenovo\\anaconda3\\Lib\\site-packages\\sklearn\\cluster\\_kmeans.py:1419: UserWarning:\n",
      "\n",
      "KMeans is known to have a memory leak on Windows with MKL, when there are less chunks than available threads. You can avoid it by setting the environment variable OMP_NUM_THREADS=1.\n",
      "\n",
      "c:\\Users\\Lenovo\\anaconda3\\Lib\\site-packages\\sklearn\\cluster\\_kmeans.py:1419: UserWarning:\n",
      "\n",
      "KMeans is known to have a memory leak on Windows with MKL, when there are less chunks than available threads. You can avoid it by setting the environment variable OMP_NUM_THREADS=1.\n",
      "\n",
      "c:\\Users\\Lenovo\\anaconda3\\Lib\\site-packages\\sklearn\\cluster\\_kmeans.py:1419: UserWarning:\n",
      "\n",
      "KMeans is known to have a memory leak on Windows with MKL, when there are less chunks than available threads. You can avoid it by setting the environment variable OMP_NUM_THREADS=1.\n",
      "\n",
      "c:\\Users\\Lenovo\\anaconda3\\Lib\\site-packages\\sklearn\\cluster\\_kmeans.py:1419: UserWarning:\n",
      "\n",
      "KMeans is known to have a memory leak on Windows with MKL, when there are less chunks than available threads. You can avoid it by setting the environment variable OMP_NUM_THREADS=1.\n",
      "\n",
      "c:\\Users\\Lenovo\\anaconda3\\Lib\\site-packages\\sklearn\\cluster\\_kmeans.py:1419: UserWarning:\n",
      "\n",
      "KMeans is known to have a memory leak on Windows with MKL, when there are less chunks than available threads. You can avoid it by setting the environment variable OMP_NUM_THREADS=1.\n",
      "\n",
      "c:\\Users\\Lenovo\\anaconda3\\Lib\\site-packages\\sklearn\\cluster\\_kmeans.py:1419: UserWarning:\n",
      "\n",
      "KMeans is known to have a memory leak on Windows with MKL, when there are less chunks than available threads. You can avoid it by setting the environment variable OMP_NUM_THREADS=1.\n",
      "\n",
      "c:\\Users\\Lenovo\\anaconda3\\Lib\\site-packages\\sklearn\\cluster\\_kmeans.py:1419: UserWarning:\n",
      "\n",
      "KMeans is known to have a memory leak on Windows with MKL, when there are less chunks than available threads. You can avoid it by setting the environment variable OMP_NUM_THREADS=1.\n",
      "\n",
      "c:\\Users\\Lenovo\\anaconda3\\Lib\\site-packages\\sklearn\\cluster\\_kmeans.py:1419: UserWarning:\n",
      "\n",
      "KMeans is known to have a memory leak on Windows with MKL, when there are less chunks than available threads. You can avoid it by setting the environment variable OMP_NUM_THREADS=1.\n",
      "\n",
      "c:\\Users\\Lenovo\\anaconda3\\Lib\\site-packages\\sklearn\\cluster\\_kmeans.py:1419: UserWarning:\n",
      "\n",
      "KMeans is known to have a memory leak on Windows with MKL, when there are less chunks than available threads. You can avoid it by setting the environment variable OMP_NUM_THREADS=1.\n",
      "\n",
      "c:\\Users\\Lenovo\\anaconda3\\Lib\\site-packages\\sklearn\\cluster\\_kmeans.py:1419: UserWarning:\n",
      "\n",
      "KMeans is known to have a memory leak on Windows with MKL, when there are less chunks than available threads. You can avoid it by setting the environment variable OMP_NUM_THREADS=1.\n",
      "\n"
     ]
    },
    {
     "data": {
      "image/png": "[encoded data removed]",
      "text/plain": [
       "<Figure size 800x600 with 1 Axes>"
      ]
     },
     "metadata": {},
     "output_type": "display_data"
    }
   ],
   "source": [
    "# Finding the optimal number of clusters using the Elbow method\n",
    "inertia = []\n",
    "for k in range(1, 11):  # Check k from 1 to 10\n",
    "    kmeans = KMeans(n_clusters=k, random_state=42)\n",
    "    kmeans.fit(X)\n",
    "    inertia.append(kmeans.inertia_)  # Inertia is the sum of squared distances to centroids\n",
    "\n",
    "# Plotting the elbow curve\n",
    "plt.figure(figsize=(8, 6))\n",
    "plt.plot(range(1, 11), inertia, marker='o')\n",
    "plt.title('Elbow Method to Find Optimal k')\n",
    "plt.xlabel('Number of Clusters')\n",
    "plt.ylabel('Inertia')\n",
    "plt.show()"
   ]
  },
  {
   "cell_type": "code",
   "execution_count": 15,
   "metadata": {},
   "outputs": [
    {
     "name": "stderr",
     "output_type": "stream",
     "text": [
      "c:\\Users\\Lenovo\\anaconda3\\Lib\\site-packages\\sklearn\\cluster\\_kmeans.py:1419: UserWarning:\n",
      "\n",
      "KMeans is known to have a memory leak on Windows with MKL, when there are less chunks than available threads. You can avoid it by setting the environment variable OMP_NUM_THREADS=1.\n",
      "\n"
     ]
    }
   ],
   "source": [
    "model = KMeans(n_clusters=3,n_init='auto',random_state=23) # initialize the K-Means \n",
    "model.fit(X) # fit the model to the dataset \n",
    "predictions = model.predict(X) # Assign each data point in X to a cluster"
   ]
  },
  {
   "cell_type": "code",
   "execution_count": 16,
   "metadata": {},
   "outputs": [
    {
     "name": "stdout",
     "output_type": "stream",
     "text": [
      "[[-1.21505581 -1.25830076 -1.29771578 -1.32232837 -1.28312477]\n",
      " [ 1.2639102   1.14790407  1.18136782  1.13298088  1.15531982]\n",
      " [-0.03256959  0.07359779  0.07756531  0.12623166  0.0852033 ]]\n"
     ]
    }
   ],
   "source": [
    "# Getting the cluster centers (centroids)\n",
    "centroids = model.cluster_centers_\n",
    "print(centroids)\n"
   ]
  },
  {
   "cell_type": "markdown",
   "metadata": {},
   "source": []
  },
  {
   "cell_type": "code",
   "execution_count": 17,
   "metadata": {},
   "outputs": [
    {
     "data": {
      "text/html": [
       "<div>\n",
       "<style scoped>\n",
       "    .dataframe tbody tr th:only-of-type {\n",
       "        vertical-align: middle;\n",
       "    }\n",
       "\n",
       "    .dataframe tbody tr th {\n",
       "        vertical-align: top;\n",
       "    }\n",
       "\n",
       "    .dataframe thead th {\n",
       "        text-align: right;\n",
       "    }\n",
       "</style>\n",
       "<table border=\"1\" class=\"dataframe\">\n",
       "  <thead>\n",
       "    <tr style=\"text-align: right;\">\n",
       "      <th></th>\n",
       "      <th>age</th>\n",
       "      <th>annual_income</th>\n",
       "      <th>purchase_amount</th>\n",
       "      <th>loyalty_score</th>\n",
       "      <th>purchase_frequency</th>\n",
       "      <th>Cluster</th>\n",
       "    </tr>\n",
       "  </thead>\n",
       "  <tbody>\n",
       "    <tr>\n",
       "      <th>0</th>\n",
       "      <td>-1.465632</td>\n",
       "      <td>-1.090306</td>\n",
       "      <td>-1.614441</td>\n",
       "      <td>-1.210582</td>\n",
       "      <td>-1.712679</td>\n",
       "      <td>0</td>\n",
       "    </tr>\n",
       "    <tr>\n",
       "      <th>1</th>\n",
       "      <td>-0.501151</td>\n",
       "      <td>-0.211563</td>\n",
       "      <td>-0.541153</td>\n",
       "      <td>0.108642</td>\n",
       "      <td>-0.394950</td>\n",
       "      <td>2</td>\n",
       "    </tr>\n",
       "    <tr>\n",
       "      <th>2</th>\n",
       "      <td>0.677658</td>\n",
       "      <td>0.667180</td>\n",
       "      <td>0.532134</td>\n",
       "      <td>0.636332</td>\n",
       "      <td>0.483536</td>\n",
       "      <td>2</td>\n",
       "    </tr>\n",
       "    <tr>\n",
       "      <th>3</th>\n",
       "      <td>-1.787125</td>\n",
       "      <td>-2.408420</td>\n",
       "      <td>-1.972203</td>\n",
       "      <td>-2.002117</td>\n",
       "      <td>-2.151922</td>\n",
       "      <td>0</td>\n",
       "    </tr>\n",
       "    <tr>\n",
       "      <th>4</th>\n",
       "      <td>-1.036974</td>\n",
       "      <td>-0.914557</td>\n",
       "      <td>-1.471336</td>\n",
       "      <td>-1.052275</td>\n",
       "      <td>-1.493057</td>\n",
       "      <td>0</td>\n",
       "    </tr>\n",
       "  </tbody>\n",
       "</table>\n",
       "</div>"
      ],
      "text/plain": [
       "        age  annual_income  purchase_amount  loyalty_score  \\\n",
       "0 -1.465632      -1.090306        -1.614441      -1.210582   \n",
       "1 -0.501151      -0.211563        -0.541153       0.108642   \n",
       "2  0.677658       0.667180         0.532134       0.636332   \n",
       "3 -1.787125      -2.408420        -1.972203      -2.002117   \n",
       "4 -1.036974      -0.914557        -1.471336      -1.052275   \n",
       "\n",
       "   purchase_frequency  Cluster  \n",
       "0           -1.712679        0  \n",
       "1           -0.394950        2  \n",
       "2            0.483536        2  \n",
       "3           -2.151922        0  \n",
       "4           -1.493057        0  "
      ]
     },
     "execution_count": 17,
     "metadata": {},
     "output_type": "execute_result"
    }
   ],
   "source": [
    "\n",
    "X['Cluster'] = predictions\n",
    "X.head()  # Display the first few rows with the assigned cluster labels\n"
   ]
  },
  {
   "cell_type": "code",
   "execution_count": 18,
   "metadata": {},
   "outputs": [
    {
     "data": {
      "text/html": [
       "<div>\n",
       "<style scoped>\n",
       "    .dataframe tbody tr th:only-of-type {\n",
       "        vertical-align: middle;\n",
       "    }\n",
       "\n",
       "    .dataframe tbody tr th {\n",
       "        vertical-align: top;\n",
       "    }\n",
       "\n",
       "    .dataframe thead th {\n",
       "        text-align: right;\n",
       "    }\n",
       "</style>\n",
       "<table border=\"1\" class=\"dataframe\">\n",
       "  <thead>\n",
       "    <tr style=\"text-align: right;\">\n",
       "      <th></th>\n",
       "      <th>age</th>\n",
       "      <th>annual_income</th>\n",
       "      <th>purchase_amount</th>\n",
       "      <th>loyalty_score</th>\n",
       "      <th>purchase_frequency</th>\n",
       "      <th>Cluster</th>\n",
       "    </tr>\n",
       "  </thead>\n",
       "  <tbody>\n",
       "    <tr>\n",
       "      <th>0</th>\n",
       "      <td>-1.465632</td>\n",
       "      <td>-1.090306</td>\n",
       "      <td>-1.614441</td>\n",
       "      <td>-1.210582</td>\n",
       "      <td>-1.712679</td>\n",
       "      <td>0</td>\n",
       "    </tr>\n",
       "    <tr>\n",
       "      <th>1</th>\n",
       "      <td>-0.501151</td>\n",
       "      <td>-0.211563</td>\n",
       "      <td>-0.541153</td>\n",
       "      <td>0.108642</td>\n",
       "      <td>-0.394950</td>\n",
       "      <td>2</td>\n",
       "    </tr>\n",
       "    <tr>\n",
       "      <th>2</th>\n",
       "      <td>0.677658</td>\n",
       "      <td>0.667180</td>\n",
       "      <td>0.532134</td>\n",
       "      <td>0.636332</td>\n",
       "      <td>0.483536</td>\n",
       "      <td>2</td>\n",
       "    </tr>\n",
       "    <tr>\n",
       "      <th>3</th>\n",
       "      <td>-1.787125</td>\n",
       "      <td>-2.408420</td>\n",
       "      <td>-1.972203</td>\n",
       "      <td>-2.002117</td>\n",
       "      <td>-2.151922</td>\n",
       "      <td>0</td>\n",
       "    </tr>\n",
       "    <tr>\n",
       "      <th>4</th>\n",
       "      <td>-1.036974</td>\n",
       "      <td>-0.914557</td>\n",
       "      <td>-1.471336</td>\n",
       "      <td>-1.052275</td>\n",
       "      <td>-1.493057</td>\n",
       "      <td>0</td>\n",
       "    </tr>\n",
       "    <tr>\n",
       "      <th>5</th>\n",
       "      <td>0.249000</td>\n",
       "      <td>0.315683</td>\n",
       "      <td>0.389029</td>\n",
       "      <td>0.530794</td>\n",
       "      <td>0.263915</td>\n",
       "      <td>2</td>\n",
       "    </tr>\n",
       "    <tr>\n",
       "      <th>6</th>\n",
       "      <td>-0.286823</td>\n",
       "      <td>-0.299437</td>\n",
       "      <td>-0.183391</td>\n",
       "      <td>-0.155203</td>\n",
       "      <td>-0.175328</td>\n",
       "      <td>2</td>\n",
       "    </tr>\n",
       "    <tr>\n",
       "      <th>7</th>\n",
       "      <td>-1.251303</td>\n",
       "      <td>-1.266054</td>\n",
       "      <td>-1.399783</td>\n",
       "      <td>-1.368889</td>\n",
       "      <td>-1.273436</td>\n",
       "      <td>0</td>\n",
       "    </tr>\n",
       "    <tr>\n",
       "      <th>8</th>\n",
       "      <td>1.213480</td>\n",
       "      <td>1.106551</td>\n",
       "      <td>1.247659</td>\n",
       "      <td>1.164021</td>\n",
       "      <td>1.142401</td>\n",
       "      <td>1</td>\n",
       "    </tr>\n",
       "    <tr>\n",
       "      <th>9</th>\n",
       "      <td>-0.822645</td>\n",
       "      <td>-0.650934</td>\n",
       "      <td>-0.755811</td>\n",
       "      <td>-0.682893</td>\n",
       "      <td>-0.614571</td>\n",
       "      <td>0</td>\n",
       "    </tr>\n",
       "    <tr>\n",
       "      <th>10</th>\n",
       "      <td>-1.144138</td>\n",
       "      <td>-1.002432</td>\n",
       "      <td>-1.256678</td>\n",
       "      <td>-1.263351</td>\n",
       "      <td>-1.053814</td>\n",
       "      <td>0</td>\n",
       "    </tr>\n",
       "    <tr>\n",
       "      <th>11</th>\n",
       "      <td>0.356164</td>\n",
       "      <td>0.403557</td>\n",
       "      <td>0.675239</td>\n",
       "      <td>0.741870</td>\n",
       "      <td>0.703158</td>\n",
       "      <td>2</td>\n",
       "    </tr>\n",
       "    <tr>\n",
       "      <th>12</th>\n",
       "      <td>-0.608316</td>\n",
       "      <td>-0.387311</td>\n",
       "      <td>-0.326496</td>\n",
       "      <td>-0.419048</td>\n",
       "      <td>-0.394950</td>\n",
       "      <td>2</td>\n",
       "    </tr>\n",
       "    <tr>\n",
       "      <th>13</th>\n",
       "      <td>-0.179658</td>\n",
       "      <td>0.052060</td>\n",
       "      <td>-0.040286</td>\n",
       "      <td>0.003104</td>\n",
       "      <td>0.044293</td>\n",
       "      <td>2</td>\n",
       "    </tr>\n",
       "    <tr>\n",
       "      <th>14</th>\n",
       "      <td>1.106315</td>\n",
       "      <td>1.018677</td>\n",
       "      <td>1.176107</td>\n",
       "      <td>1.111252</td>\n",
       "      <td>0.922779</td>\n",
       "      <td>1</td>\n",
       "    </tr>\n",
       "    <tr>\n",
       "      <th>15</th>\n",
       "      <td>-1.679960</td>\n",
       "      <td>-2.320546</td>\n",
       "      <td>-1.900651</td>\n",
       "      <td>-1.896579</td>\n",
       "      <td>-1.932300</td>\n",
       "      <td>0</td>\n",
       "    </tr>\n",
       "    <tr>\n",
       "      <th>16</th>\n",
       "      <td>0.034671</td>\n",
       "      <td>-0.035814</td>\n",
       "      <td>0.102819</td>\n",
       "      <td>0.108642</td>\n",
       "      <td>0.263915</td>\n",
       "      <td>2</td>\n",
       "    </tr>\n",
       "    <tr>\n",
       "      <th>17</th>\n",
       "      <td>-0.929809</td>\n",
       "      <td>-0.738809</td>\n",
       "      <td>-0.898916</td>\n",
       "      <td>-0.946737</td>\n",
       "      <td>-0.834193</td>\n",
       "      <td>0</td>\n",
       "    </tr>\n",
       "    <tr>\n",
       "      <th>18</th>\n",
       "      <td>0.784822</td>\n",
       "      <td>0.755054</td>\n",
       "      <td>0.603687</td>\n",
       "      <td>0.689101</td>\n",
       "      <td>0.483536</td>\n",
       "      <td>1</td>\n",
       "    </tr>\n",
       "    <tr>\n",
       "      <th>19</th>\n",
       "      <td>-1.358467</td>\n",
       "      <td>-1.178180</td>\n",
       "      <td>-1.328231</td>\n",
       "      <td>-1.316120</td>\n",
       "      <td>-1.273436</td>\n",
       "      <td>0</td>\n",
       "    </tr>\n",
       "    <tr>\n",
       "      <th>20</th>\n",
       "      <td>1.427809</td>\n",
       "      <td>1.282300</td>\n",
       "      <td>1.319212</td>\n",
       "      <td>1.269559</td>\n",
       "      <td>1.362022</td>\n",
       "      <td>1</td>\n",
       "    </tr>\n",
       "    <tr>\n",
       "      <th>21</th>\n",
       "      <td>-1.572796</td>\n",
       "      <td>-2.232672</td>\n",
       "      <td>-1.829098</td>\n",
       "      <td>-1.843810</td>\n",
       "      <td>-1.712679</td>\n",
       "      <td>0</td>\n",
       "    </tr>\n",
       "    <tr>\n",
       "      <th>22</th>\n",
       "      <td>0.570493</td>\n",
       "      <td>0.491431</td>\n",
       "      <td>0.245924</td>\n",
       "      <td>0.372487</td>\n",
       "      <td>0.263915</td>\n",
       "      <td>2</td>\n",
       "    </tr>\n",
       "    <tr>\n",
       "      <th>23</th>\n",
       "      <td>-0.393987</td>\n",
       "      <td>-0.123689</td>\n",
       "      <td>-0.254943</td>\n",
       "      <td>-0.313510</td>\n",
       "      <td>-0.175328</td>\n",
       "      <td>2</td>\n",
       "    </tr>\n",
       "    <tr>\n",
       "      <th>24</th>\n",
       "      <td>-0.072494</td>\n",
       "      <td>0.139934</td>\n",
       "      <td>0.031267</td>\n",
       "      <td>0.055873</td>\n",
       "      <td>0.044293</td>\n",
       "      <td>2</td>\n",
       "    </tr>\n",
       "    <tr>\n",
       "      <th>25</th>\n",
       "      <td>0.891986</td>\n",
       "      <td>0.842929</td>\n",
       "      <td>0.746792</td>\n",
       "      <td>0.794639</td>\n",
       "      <td>0.703158</td>\n",
       "      <td>1</td>\n",
       "    </tr>\n",
       "    <tr>\n",
       "      <th>26</th>\n",
       "      <td>-0.715480</td>\n",
       "      <td>-0.475186</td>\n",
       "      <td>-0.469601</td>\n",
       "      <td>-0.524586</td>\n",
       "      <td>-0.394950</td>\n",
       "      <td>2</td>\n",
       "    </tr>\n",
       "    <tr>\n",
       "      <th>27</th>\n",
       "      <td>-1.036974</td>\n",
       "      <td>-0.826683</td>\n",
       "      <td>-1.042021</td>\n",
       "      <td>-1.157813</td>\n",
       "      <td>-1.053814</td>\n",
       "      <td>0</td>\n",
       "    </tr>\n",
       "    <tr>\n",
       "      <th>28</th>\n",
       "      <td>1.320644</td>\n",
       "      <td>1.194426</td>\n",
       "      <td>1.247659</td>\n",
       "      <td>1.164021</td>\n",
       "      <td>1.142401</td>\n",
       "      <td>1</td>\n",
       "    </tr>\n",
       "    <tr>\n",
       "      <th>29</th>\n",
       "      <td>0.141835</td>\n",
       "      <td>0.227809</td>\n",
       "      <td>0.174372</td>\n",
       "      <td>0.214180</td>\n",
       "      <td>0.483536</td>\n",
       "      <td>2</td>\n",
       "    </tr>\n",
       "  </tbody>\n",
       "</table>\n",
       "</div>"
      ],
      "text/plain": [
       "         age  annual_income  purchase_amount  loyalty_score  \\\n",
       "0  -1.465632      -1.090306        -1.614441      -1.210582   \n",
       "1  -0.501151      -0.211563        -0.541153       0.108642   \n",
       "2   0.677658       0.667180         0.532134       0.636332   \n",
       "3  -1.787125      -2.408420        -1.972203      -2.002117   \n",
       "4  -1.036974      -0.914557        -1.471336      -1.052275   \n",
       "5   0.249000       0.315683         0.389029       0.530794   \n",
       "6  -0.286823      -0.299437        -0.183391      -0.155203   \n",
       "7  -1.251303      -1.266054        -1.399783      -1.368889   \n",
       "8   1.213480       1.106551         1.247659       1.164021   \n",
       "9  -0.822645      -0.650934        -0.755811      -0.682893   \n",
       "10 -1.144138      -1.002432        -1.256678      -1.263351   \n",
       "11  0.356164       0.403557         0.675239       0.741870   \n",
       "12 -0.608316      -0.387311        -0.326496      -0.419048   \n",
       "13 -0.179658       0.052060        -0.040286       0.003104   \n",
       "14  1.106315       1.018677         1.176107       1.111252   \n",
       "15 -1.679960      -2.320546        -1.900651      -1.896579   \n",
       "16  0.034671      -0.035814         0.102819       0.108642   \n",
       "17 -0.929809      -0.738809        -0.898916      -0.946737   \n",
       "18  0.784822       0.755054         0.603687       0.689101   \n",
       "19 -1.358467      -1.178180        -1.328231      -1.316120   \n",
       "20  1.427809       1.282300         1.319212       1.269559   \n",
       "21 -1.572796      -2.232672        -1.829098      -1.843810   \n",
       "22  0.570493       0.491431         0.245924       0.372487   \n",
       "23 -0.393987      -0.123689        -0.254943      -0.313510   \n",
       "24 -0.072494       0.139934         0.031267       0.055873   \n",
       "25  0.891986       0.842929         0.746792       0.794639   \n",
       "26 -0.715480      -0.475186        -0.469601      -0.524586   \n",
       "27 -1.036974      -0.826683        -1.042021      -1.157813   \n",
       "28  1.320644       1.194426         1.247659       1.164021   \n",
       "29  0.141835       0.227809         0.174372       0.214180   \n",
       "\n",
       "    purchase_frequency  Cluster  \n",
       "0            -1.712679        0  \n",
       "1            -0.394950        2  \n",
       "2             0.483536        2  \n",
       "3            -2.151922        0  \n",
       "4            -1.493057        0  \n",
       "5             0.263915        2  \n",
       "6            -0.175328        2  \n",
       "7            -1.273436        0  \n",
       "8             1.142401        1  \n",
       "9            -0.614571        0  \n",
       "10           -1.053814        0  \n",
       "11            0.703158        2  \n",
       "12           -0.394950        2  \n",
       "13            0.044293        2  \n",
       "14            0.922779        1  \n",
       "15           -1.932300        0  \n",
       "16            0.263915        2  \n",
       "17           -0.834193        0  \n",
       "18            0.483536        1  \n",
       "19           -1.273436        0  \n",
       "20            1.362022        1  \n",
       "21           -1.712679        0  \n",
       "22            0.263915        2  \n",
       "23           -0.175328        2  \n",
       "24            0.044293        2  \n",
       "25            0.703158        1  \n",
       "26           -0.394950        2  \n",
       "27           -1.053814        0  \n",
       "28            1.142401        1  \n",
       "29            0.483536        2  "
      ]
     },
     "execution_count": 18,
     "metadata": {},
     "output_type": "execute_result"
    }
   ],
   "source": [
    "X.head(30)"
   ]
  },
  {
   "cell_type": "code",
   "execution_count": 20,
   "metadata": {},
   "outputs": [
    {
     "data": {
      "image/png": "[encoded data removed]",
      "text/plain": [
       "<Figure size 640x480 with 1 Axes>"
      ]
     },
     "metadata": {},
     "output_type": "display_data"
    }
   ],
   "source": [
    "\n",
    "\n",
    "# Plot the scatter plot with clusters colored by 'predictions' (the cluster labels)\n",
    "sns.scatterplot(data=X, x='age', y='purchase_frequency', hue=predictions, palette='viridis')\n",
    "\n",
    "# Extract the centroids from the KMeans model\n",
    "centroid_x = model.cluster_centers_[:, 0]  \n",
    "centroid_y = model.cluster_centers_[:, 1]  \n",
    "\n",
    "# Plot the centroids using blue circles ('ob' stands for blue 'o' markers)\n",
    "plt.plot(centroid_x, centroid_y, 'ob', markersize=10)  # 'ob' means blue circles\n",
    "\n",
    "# Add a title and labels\n",
    "plt.title('KMeans Clustering: Age vs Purchase Frequency')\n",
    "plt.xlabel('Age')\n",
    "plt.ylabel('Purchase Frequency')\n",
    "\n",
    "# Display the plot\n",
    "plt.show()\n"
   ]
  },
  {
   "cell_type": "code",
   "execution_count": 21,
   "metadata": {},
   "outputs": [
    {
     "data": {
      "application/vnd.plotly.v1+json": {
       "config": {
        "plotlyServerURL": "https://plot.ly"
       },
       "data": [
        {
         "hovertemplate": "age=%{x}<br>annual_income=%{y}<br>color=%{marker.color}<extra></extra>",
         "legendgroup": "",
         "marker": {
          "color": [
           0,
           2,
           2,
           0,
           0,
           2,
           2,
           0,
           1,
           0,
           0,
           2,
           2,
           2,
           1,
           0,
           2,
           0,
           1,
           0,
           1,
           0,
           2,
           2,
           2,
           1,
           2,
           0,
           1,
           2,
           2,
           2,
           0,
           0,
           1,
           0,
           1,
           0,
           1,
           0,
           2,
           2,
           1,
           2,
           1,
           0,
           2,
           1,
           2,
           0,
           1,
           0,
           2,
           2,
           2,
           1,
           2,
           0,
           2,
           1,
           0,
           2,
           1,
           0,
           2,
           2,
           1,
           0,
           1,
           0,
           2,
           2,
           1,
           2,
           1,
           0,
           2,
           1,
           2,
           0,
           1,
           0,
           2,
           2,
           2,
           1,
           2,
           0,
           2,
           1,
           0,
           2,
           1,
           0,
           2,
           2,
           1,
           0,
           1,
           0,
           2,
           2,
           1,
           2,
           1,
           0,
           2,
           1,
           2,
           0,
           1,
           0,
           2,
           2,
           2,
           1,
           2,
           0,
           2,
           1,
           0,
           2,
           1,
           0,
           2,
           2,
           1,
           0,
           1,
           0,
           2,
           2,
           1,
           2,
           1,
           0,
           2,
           1,
           2,
           0,
           1,
           0,
           2,
           2,
           2,
           1,
           2,
           0,
           2,
           1,
           0,
           2,
           1,
           0,
           2,
           2,
           1,
           0,
           1,
           0,
           2,
           2,
           1,
           2,
           1,
           0,
           2,
           1,
           2,
           0,
           1,
           0,
           2,
           2,
           2,
           1,
           2,
           0,
           2,
           1,
           0,
           2,
           1,
           0,
           2,
           2,
           1,
           0,
           1,
           0,
           2,
           2,
           1,
           2,
           1,
           0,
           2,
           1,
           2,
           0,
           1,
           0,
           2,
           2,
           2,
           1,
           2,
           0,
           2,
           1,
           0,
           2,
           1,
           0,
           2,
           2,
           1,
           0,
           1,
           0,
           2,
           2,
           1,
           2,
           1,
           0,
           2,
           1,
           2,
           0,
           1,
           0,
           2,
           2,
           2,
           1,
           2,
           0
          ],
          "coloraxis": "coloraxis",
          "symbol": "circle"
         },
         "mode": "markers",
         "name": "",
         "orientation": "v",
         "showlegend": false,
         "type": "scatter",
         "x": [
          -1.4656315255229964,
          -0.5011514248562505,
          0.677657587069772,
          -1.7871248924119114,
          -1.0369737030044426,
          0.24899976455121836,
          -0.2868225135969737,
          -1.2513026142637194,
          1.2134798652179641,
          -0.8226447917451658,
          -1.144138158634081,
          0.35616422018085675,
          -0.6083158804858889,
          -0.1796580579673353,
          1.1063154095883256,
          -1.6799604367822731,
          0.03467085329194153,
          -0.9298092473748042,
          0.7848220426994105,
          -1.3584670698933579,
          1.427808776477241,
          -1.5727959811526346,
          0.5704931314401336,
          -0.39398696922661214,
          -0.07249360233769689,
          0.8919864983290489,
          -0.7154803361155274,
          -1.0369737030044426,
          1.3206443208476024,
          0.14183530892157994,
          -0.5011514248562505,
          0.4633286758104952,
          -0.8226447917451658,
          -1.2513026142637194,
          1.7493021433661562,
          -1.4656315255229964,
          0.9991509539586872,
          -0.9298092473748042,
          1.5349732321068794,
          -1.144138158634081,
          0.03467085329194153,
          -0.1796580579673353,
          0.7848220426994105,
          -0.6083158804858889,
          1.427808776477241,
          -1.0369737030044426,
          0.24899976455121836,
          1.2134798652179641,
          -0.2868225135969737,
          -1.5727959811526346,
          1.1063154095883256,
          -1.3584670698933579,
          0.677657587069772,
          0.14183530892157994,
          -0.07249360233769689,
          1.6421376877365177,
          -0.7154803361155274,
          -0.8226447917451658,
          0.35616422018085675,
          1.7493021433661562,
          -1.0369737030044426,
          -0.6083158804858889,
          1.3206443208476024,
          -1.2513026142637194,
          0.4633286758104952,
          0.24899976455121836,
          1.2134798652179641,
          -1.5727959811526346,
          0.9991509539586872,
          -0.9298092473748042,
          0.03467085329194153,
          -0.1796580579673353,
          0.7848220426994105,
          -0.6083158804858889,
          1.427808776477241,
          -1.144138158634081,
          0.24899976455121836,
          1.2134798652179641,
          -0.2868225135969737,
          -1.5727959811526346,
          1.1063154095883256,
          -1.3584670698933579,
          0.677657587069772,
          0.14183530892157994,
          -0.07249360233769689,
          1.6421376877365177,
          -0.7154803361155274,
          -0.8226447917451658,
          0.35616422018085675,
          1.7493021433661562,
          -1.0369737030044426,
          -0.6083158804858889,
          1.3206443208476024,
          -1.2513026142637194,
          0.4633286758104952,
          0.24899976455121836,
          1.2134798652179641,
          -1.5727959811526346,
          0.9991509539586872,
          -0.9298092473748042,
          0.03467085329194153,
          -0.1796580579673353,
          0.7848220426994105,
          -0.6083158804858889,
          1.427808776477241,
          -1.144138158634081,
          0.24899976455121836,
          1.2134798652179641,
          -0.2868225135969737,
          -1.5727959811526346,
          1.1063154095883256,
          -1.3584670698933579,
          0.677657587069772,
          0.14183530892157994,
          -0.07249360233769689,
          1.6421376877365177,
          -0.7154803361155274,
          -0.8226447917451658,
          0.35616422018085675,
          1.7493021433661562,
          -1.0369737030044426,
          -0.6083158804858889,
          1.3206443208476024,
          -1.2513026142637194,
          0.4633286758104952,
          0.24899976455121836,
          1.2134798652179641,
          -1.5727959811526346,
          0.9991509539586872,
          -0.9298092473748042,
          0.03467085329194153,
          -0.1796580579673353,
          0.7848220426994105,
          -0.6083158804858889,
          1.427808776477241,
          -1.144138158634081,
          0.24899976455121836,
          1.2134798652179641,
          -0.2868225135969737,
          -1.5727959811526346,
          1.1063154095883256,
          -1.3584670698933579,
          0.677657587069772,
          0.14183530892157994,
          -0.07249360233769689,
          1.6421376877365177,
          -0.7154803361155274,
          -0.8226447917451658,
          0.35616422018085675,
          1.7493021433661562,
          -1.0369737030044426,
          -0.6083158804858889,
          1.3206443208476024,
          -1.2513026142637194,
          0.4633286758104952,
          0.24899976455121836,
          1.2134798652179641,
          -1.5727959811526346,
          0.9991509539586872,
          -0.9298092473748042,
          0.03467085329194153,
          -0.1796580579673353,
          0.7848220426994105,
          -0.6083158804858889,
          1.427808776477241,
          -1.144138158634081,
          0.24899976455121836,
          1.2134798652179641,
          -0.2868225135969737,
          -1.5727959811526346,
          1.1063154095883256,
          -1.3584670698933579,
          0.677657587069772,
          0.14183530892157994,
          -0.07249360233769689,
          1.6421376877365177,
          -0.7154803361155274,
          -0.8226447917451658,
          0.35616422018085675,
          1.7493021433661562,
          -1.0369737030044426,
          -0.6083158804858889,
          1.3206443208476024,
          -1.2513026142637194,
          0.4633286758104952,
          0.24899976455121836,
          1.2134798652179641,
          -1.5727959811526346,
          0.9991509539586872,
          -0.9298092473748042,
          0.03467085329194153,
          -0.1796580579673353,
          0.7848220426994105,
          -0.6083158804858889,
          1.427808776477241,
          -1.144138158634081,
          0.24899976455121836,
          1.2134798652179641,
          -0.2868225135969737,
          -1.5727959811526346,
          1.1063154095883256,
          -1.3584670698933579,
          0.677657587069772,
          0.14183530892157994,
          -0.07249360233769689,
          1.6421376877365177,
          -0.7154803361155274,
          -0.8226447917451658,
          0.35616422018085675,
          1.7493021433661562,
          -1.0369737030044426,
          -0.6083158804858889,
          1.3206443208476024,
          -1.2513026142637194,
          0.4633286758104952,
          0.24899976455121836,
          1.2134798652179641,
          -1.5727959811526346,
          0.9991509539586872,
          -0.9298092473748042,
          0.03467085329194153,
          -0.1796580579673353,
          0.7848220426994105,
          -0.6083158804858889,
          1.427808776477241,
          -1.144138158634081,
          0.24899976455121836,
          1.2134798652179641,
          -0.2868225135969737,
          -1.5727959811526346,
          1.1063154095883256,
          -1.3584670698933579,
          0.677657587069772,
          0.14183530892157994,
          -0.07249360233769689,
          1.6421376877365177,
          -0.7154803361155274,
          -0.8226447917451658
         ],
         "xaxis": "x",
         "y": [
          -1.0903057936276188,
          -0.2115628918891382,
          0.6671800098493424,
          -2.40842014623534,
          -0.9145572132799227,
          0.3156828491539502,
          -0.29943718206298625,
          -1.266054373975315,
          1.1065514607185827,
          -0.6509343427583786,
          -1.0024315034537707,
          0.40355713932779824,
          -0.3873114722368343,
          0.05205997863240598,
          1.0186771705447346,
          -2.3205458560614916,
          -0.03581431154144209,
          -0.7388086329322265,
          0.7550543000231905,
          -1.1781800838014669,
          1.2823000410662788,
          -2.2326715658876437,
          0.4914314295016463,
          -0.12368860171529014,
          0.13993426880625404,
          0.8429285901970386,
          -0.4751857624106824,
          -0.8266829231060746,
          1.1944257508924307,
          0.2278085589801021,
          -0.2115628918891382,
          0.5793057196754944,
          -0.6509343427583786,
          -1.266054373975315,
          1.545922911587823,
          -1.0903057936276188,
          0.9308028803708867,
          -0.7388086329322265,
          1.3701743312401269,
          -1.0024315034537707,
          -0.03581431154144209,
          0.05205997863240598,
          0.7550543000231905,
          -0.3873114722368343,
          1.2823000410662788,
          -0.9145572132799227,
          0.3156828491539502,
          1.1065514607185827,
          -0.29943718206298625,
          -2.2326715658876437,
          1.0186771705447346,
          -1.1781800838014669,
          0.6671800098493424,
          0.2278085589801021,
          0.13993426880625404,
          1.458048621413975,
          -0.4751857624106824,
          -0.5630600525845305,
          0.40355713932779824,
          1.545922911587823,
          -1.0024315034537707,
          -0.3873114722368343,
          1.1944257508924307,
          -1.266054373975315,
          0.4914314295016463,
          0.3156828491539502,
          1.1065514607185827,
          -2.2326715658876437,
          0.9308028803708867,
          -0.7388086329322265,
          -0.03581431154144209,
          0.05205997863240598,
          0.7550543000231905,
          -0.3873114722368343,
          1.2823000410662788,
          -1.0024315034537707,
          0.3156828491539502,
          1.1065514607185827,
          -0.29943718206298625,
          -2.2326715658876437,
          1.0186771705447346,
          -1.1781800838014669,
          0.6671800098493424,
          0.2278085589801021,
          0.13993426880625404,
          1.458048621413975,
          -0.4751857624106824,
          -0.5630600525845305,
          0.40355713932779824,
          1.545922911587823,
          -1.0024315034537707,
          -0.3873114722368343,
          1.1944257508924307,
          -1.266054373975315,
          0.4914314295016463,
          0.3156828491539502,
          1.1065514607185827,
          -2.2326715658876437,
          0.9308028803708867,
          -0.7388086329322265,
          -0.03581431154144209,
          0.05205997863240598,
          0.7550543000231905,
          -0.3873114722368343,
          1.2823000410662788,
          -1.0024315034537707,
          0.3156828491539502,
          1.1065514607185827,
          -0.29943718206298625,
          -2.2326715658876437,
          1.0186771705447346,
          -1.1781800838014669,
          0.6671800098493424,
          0.2278085589801021,
          0.13993426880625404,
          1.458048621413975,
          -0.4751857624106824,
          -0.5630600525845305,
          0.40355713932779824,
          1.545922911587823,
          -1.0024315034537707,
          -0.3873114722368343,
          1.1944257508924307,
          -1.266054373975315,
          0.4914314295016463,
          0.3156828491539502,
          1.1065514607185827,
          -2.2326715658876437,
          0.9308028803708867,
          -0.7388086329322265,
          -0.03581431154144209,
          0.05205997863240598,
          0.7550543000231905,
          -0.3873114722368343,
          1.2823000410662788,
          -1.0024315034537707,
          0.3156828491539502,
          1.1065514607185827,
          -0.29943718206298625,
          -2.2326715658876437,
          1.0186771705447346,
          -1.1781800838014669,
          0.6671800098493424,
          0.2278085589801021,
          0.13993426880625404,
          1.458048621413975,
          -0.4751857624106824,
          -0.5630600525845305,
          0.40355713932779824,
          1.545922911587823,
          -1.0024315034537707,
          -0.3873114722368343,
          1.1944257508924307,
          -1.266054373975315,
          0.4914314295016463,
          0.3156828491539502,
          1.1065514607185827,
          -2.2326715658876437,
          0.9308028803708867,
          -0.7388086329322265,
          -0.03581431154144209,
          0.05205997863240598,
          0.7550543000231905,
          -0.3873114722368343,
          1.2823000410662788,
          -1.0024315034537707,
          0.3156828491539502,
          1.1065514607185827,
          -0.29943718206298625,
          -2.2326715658876437,
          1.0186771705447346,
          -1.1781800838014669,
          0.6671800098493424,
          0.2278085589801021,
          0.13993426880625404,
          1.458048621413975,
          -0.4751857624106824,
          -0.5630600525845305,
          0.40355713932779824,
          1.545922911587823,
          -1.0024315034537707,
          -0.3873114722368343,
          1.1944257508924307,
          -1.266054373975315,
          0.4914314295016463,
          0.3156828491539502,
          1.1065514607185827,
          -2.2326715658876437,
          0.9308028803708867,
          -0.7388086329322265,
          -0.03581431154144209,
          0.05205997863240598,
          0.7550543000231905,
          -0.3873114722368343,
          1.2823000410662788,
          -1.0024315034537707,
          0.3156828491539502,
          1.1065514607185827,
          -0.29943718206298625,
          -2.2326715658876437,
          1.0186771705447346,
          -1.1781800838014669,
          0.6671800098493424,
          0.2278085589801021,
          0.13993426880625404,
          1.458048621413975,
          -0.4751857624106824,
          -0.5630600525845305,
          0.40355713932779824,
          1.545922911587823,
          -1.0024315034537707,
          -0.3873114722368343,
          1.1944257508924307,
          -1.266054373975315,
          0.4914314295016463,
          0.3156828491539502,
          1.1065514607185827,
          -2.2326715658876437,
          0.9308028803708867,
          -0.7388086329322265,
          -0.03581431154144209,
          0.05205997863240598,
          0.7550543000231905,
          -0.3873114722368343,
          1.2823000410662788,
          -1.0024315034537707,
          0.3156828491539502,
          1.1065514607185827,
          -0.29943718206298625,
          -2.2326715658876437,
          1.0186771705447346,
          -1.1781800838014669,
          0.6671800098493424,
          0.2278085589801021,
          0.13993426880625404,
          1.458048621413975,
          -0.4751857624106824,
          -0.5630600525845305
         ],
         "yaxis": "y"
        }
       ],
       "layout": {
        "coloraxis": {
         "colorbar": {
          "title": {
           "text": "color"
          }
         },
         "colorscale": [
          [
           0,
           "#0d0887"
          ],
          [
           0.1111111111111111,
           "#46039f"
          ],
          [
           0.2222222222222222,
           "#7201a8"
          ],
          [
           0.3333333333333333,
           "#9c179e"
          ],
          [
           0.4444444444444444,
           "#bd3786"
          ],
          [
           0.5555555555555556,
           "#d8576b"
          ],
          [
           0.6666666666666666,
           "#ed7953"
          ],
          [
           0.7777777777777778,
           "#fb9f3a"
          ],
          [
           0.8888888888888888,
           "#fdca26"
          ],
          [
           1,
           "#f0f921"
          ]
         ]
        },
        "legend": {
         "tracegroupgap": 0
        },
        "margin": {
         "t": 60
        },
        "template": {
         "data": {
          "bar": [
           {
            "error_x": {
             "color": "#2a3f5f"
            },
            "error_y": {
             "color": "#2a3f5f"
            },
            "marker": {
             "line": {
              "color": "#E5ECF6",
              "width": 0.5
             },
             "pattern": {
              "fillmode": "overlay",
              "size": 10,
              "solidity": 0.2
             }
            },
            "type": "bar"
           }
          ],
          "barpolar": [
           {
            "marker": {
             "line": {
              "color": "#E5ECF6",
              "width": 0.5
             },
             "pattern": {
              "fillmode": "overlay",
              "size": 10,
              "solidity": 0.2
             }
            },
            "type": "barpolar"
           }
          ],
          "carpet": [
           {
            "aaxis": {
             "endlinecolor": "#2a3f5f",
             "gridcolor": "white",
             "linecolor": "white",
             "minorgridcolor": "white",
             "startlinecolor": "#2a3f5f"
            },
            "baxis": {
             "endlinecolor": "#2a3f5f",
             "gridcolor": "white",
             "linecolor": "white",
             "minorgridcolor": "white",
             "startlinecolor": "#2a3f5f"
            },
            "type": "carpet"
           }
          ],
          "choropleth": [
           {
            "colorbar": {
             "outlinewidth": 0,
             "ticks": ""
            },
            "type": "choropleth"
           }
          ],
          "contour": [
           {
            "colorbar": {
             "outlinewidth": 0,
             "ticks": ""
            },
            "colorscale": [
             [
              0,
              "#0d0887"
             ],
             [
              0.1111111111111111,
              "#46039f"
             ],
             [
              0.2222222222222222,
              "#7201a8"
             ],
             [
              0.3333333333333333,
              "#9c179e"
             ],
             [
              0.4444444444444444,
              "#bd3786"
             ],
             [
              0.5555555555555556,
              "#d8576b"
             ],
             [
              0.6666666666666666,
              "#ed7953"
             ],
             [
              0.7777777777777778,
              "#fb9f3a"
             ],
             [
              0.8888888888888888,
              "#fdca26"
             ],
             [
              1,
              "#f0f921"
             ]
            ],
            "type": "contour"
           }
          ],
          "contourcarpet": [
           {
            "colorbar": {
             "outlinewidth": 0,
             "ticks": ""
            },
            "type": "contourcarpet"
           }
          ],
          "heatmap": [
           {
            "colorbar": {
             "outlinewidth": 0,
             "ticks": ""
            },
            "colorscale": [
             [
              0,
              "#0d0887"
             ],
             [
              0.1111111111111111,
              "#46039f"
             ],
             [
              0.2222222222222222,
              "#7201a8"
             ],
             [
              0.3333333333333333,
              "#9c179e"
             ],
             [
              0.4444444444444444,
              "#bd3786"
             ],
             [
              0.5555555555555556,
              "#d8576b"
             ],
             [
              0.6666666666666666,
              "#ed7953"
             ],
             [
              0.7777777777777778,
              "#fb9f3a"
             ],
             [
              0.8888888888888888,
              "#fdca26"
             ],
             [
              1,
              "#f0f921"
             ]
            ],
            "type": "heatmap"
           }
          ],
          "heatmapgl": [
           {
            "colorbar": {
             "outlinewidth": 0,
             "ticks": ""
            },
            "colorscale": [
             [
              0,
              "#0d0887"
             ],
             [
              0.1111111111111111,
              "#46039f"
             ],
             [
              0.2222222222222222,
              "#7201a8"
             ],
             [
              0.3333333333333333,
              "#9c179e"
             ],
             [
              0.4444444444444444,
              "#bd3786"
             ],
             [
              0.5555555555555556,
              "#d8576b"
             ],
             [
              0.6666666666666666,
              "#ed7953"
             ],
             [
              0.7777777777777778,
              "#fb9f3a"
             ],
             [
              0.8888888888888888,
              "#fdca26"
             ],
             [
              1,
              "#f0f921"
             ]
            ],
            "type": "heatmapgl"
           }
          ],
          "histogram": [
           {
            "marker": {
             "pattern": {
              "fillmode": "overlay",
              "size": 10,
              "solidity": 0.2
             }
            },
            "type": "histogram"
           }
          ],
          "histogram2d": [
           {
            "colorbar": {
             "outlinewidth": 0,
             "ticks": ""
            },
            "colorscale": [
             [
              0,
              "#0d0887"
             ],
             [
              0.1111111111111111,
              "#46039f"
             ],
             [
              0.2222222222222222,
              "#7201a8"
             ],
             [
              0.3333333333333333,
              "#9c179e"
             ],
             [
              0.4444444444444444,
              "#bd3786"
             ],
             [
              0.5555555555555556,
              "#d8576b"
             ],
             [
              0.6666666666666666,
              "#ed7953"
             ],
             [
              0.7777777777777778,
              "#fb9f3a"
             ],
             [
              0.8888888888888888,
              "#fdca26"
             ],
             [
              1,
              "#f0f921"
             ]
            ],
            "type": "histogram2d"
           }
          ],
          "histogram2dcontour": [
           {
            "colorbar": {
             "outlinewidth": 0,
             "ticks": ""
            },
            "colorscale": [
             [
              0,
              "#0d0887"
             ],
             [
              0.1111111111111111,
              "#46039f"
             ],
             [
              0.2222222222222222,
              "#7201a8"
             ],
             [
              0.3333333333333333,
              "#9c179e"
             ],
             [
              0.4444444444444444,
              "#bd3786"
             ],
             [
              0.5555555555555556,
              "#d8576b"
             ],
             [
              0.6666666666666666,
              "#ed7953"
             ],
             [
              0.7777777777777778,
              "#fb9f3a"
             ],
             [
              0.8888888888888888,
              "#fdca26"
             ],
             [
              1,
              "#f0f921"
             ]
            ],
            "type": "histogram2dcontour"
           }
          ],
          "mesh3d": [
           {
            "colorbar": {
             "outlinewidth": 0,
             "ticks": ""
            },
            "type": "mesh3d"
           }
          ],
          "parcoords": [
           {
            "line": {
             "colorbar": {
              "outlinewidth": 0,
              "ticks": ""
             }
            },
            "type": "parcoords"
           }
          ],
          "pie": [
           {
            "automargin": true,
            "type": "pie"
           }
          ],
          "scatter": [
           {
            "fillpattern": {
             "fillmode": "overlay",
             "size": 10,
             "solidity": 0.2
            },
            "type": "scatter"
           }
          ],
          "scatter3d": [
           {
            "line": {
             "colorbar": {
              "outlinewidth": 0,
              "ticks": ""
             }
            },
            "marker": {
             "colorbar": {
              "outlinewidth": 0,
              "ticks": ""
             }
            },
            "type": "scatter3d"
           }
          ],
          "scattercarpet": [
           {
            "marker": {
             "colorbar": {
              "outlinewidth": 0,
              "ticks": ""
             }
            },
            "type": "scattercarpet"
           }
          ],
          "scattergeo": [
           {
            "marker": {
             "colorbar": {
              "outlinewidth": 0,
              "ticks": ""
             }
            },
            "type": "scattergeo"
           }
          ],
          "scattergl": [
           {
            "marker": {
             "colorbar": {
              "outlinewidth": 0,
              "ticks": ""
             }
            },
            "type": "scattergl"
           }
          ],
          "scattermapbox": [
           {
            "marker": {
             "colorbar": {
              "outlinewidth": 0,
              "ticks": ""
             }
            },
            "type": "scattermapbox"
           }
          ],
          "scatterpolar": [
           {
            "marker": {
             "colorbar": {
              "outlinewidth": 0,
              "ticks": ""
             }
            },
            "type": "scatterpolar"
           }
          ],
          "scatterpolargl": [
           {
            "marker": {
             "colorbar": {
              "outlinewidth": 0,
              "ticks": ""
             }
            },
            "type": "scatterpolargl"
           }
          ],
          "scatterternary": [
           {
            "marker": {
             "colorbar": {
              "outlinewidth": 0,
              "ticks": ""
             }
            },
            "type": "scatterternary"
           }
          ],
          "surface": [
           {
            "colorbar": {
             "outlinewidth": 0,
             "ticks": ""
            },
            "colorscale": [
             [
              0,
              "#0d0887"
             ],
             [
              0.1111111111111111,
              "#46039f"
             ],
             [
              0.2222222222222222,
              "#7201a8"
             ],
             [
              0.3333333333333333,
              "#9c179e"
             ],
             [
              0.4444444444444444,
              "#bd3786"
             ],
             [
              0.5555555555555556,
              "#d8576b"
             ],
             [
              0.6666666666666666,
              "#ed7953"
             ],
             [
              0.7777777777777778,
              "#fb9f3a"
             ],
             [
              0.8888888888888888,
              "#fdca26"
             ],
             [
              1,
              "#f0f921"
             ]
            ],
            "type": "surface"
           }
          ],
          "table": [
           {
            "cells": {
             "fill": {
              "color": "#EBF0F8"
             },
             "line": {
              "color": "white"
             }
            },
            "header": {
             "fill": {
              "color": "#C8D4E3"
             },
             "line": {
              "color": "white"
             }
            },
            "type": "table"
           }
          ]
         },
         "layout": {
          "annotationdefaults": {
           "arrowcolor": "#2a3f5f",
           "arrowhead": 0,
           "arrowwidth": 1
          },
          "autotypenumbers": "strict",
          "coloraxis": {
           "colorbar": {
            "outlinewidth": 0,
            "ticks": ""
           }
          },
          "colorscale": {
           "diverging": [
            [
             0,
             "#8e0152"
            ],
            [
             0.1,
             "#c51b7d"
            ],
            [
             0.2,
             "#de77ae"
            ],
            [
             0.3,
             "#f1b6da"
            ],
            [
             0.4,
             "#fde0ef"
            ],
            [
             0.5,
             "#f7f7f7"
            ],
            [
             0.6,
             "#e6f5d0"
            ],
            [
             0.7,
             "#b8e186"
            ],
            [
             0.8,
             "#7fbc41"
            ],
            [
             0.9,
             "#4d9221"
            ],
            [
             1,
             "#276419"
            ]
           ],
           "sequential": [
            [
             0,
             "#0d0887"
            ],
            [
             0.1111111111111111,
             "#46039f"
            ],
            [
             0.2222222222222222,
             "#7201a8"
            ],
            [
             0.3333333333333333,
             "#9c179e"
            ],
            [
             0.4444444444444444,
             "#bd3786"
            ],
            [
             0.5555555555555556,
             "#d8576b"
            ],
            [
             0.6666666666666666,
             "#ed7953"
            ],
            [
             0.7777777777777778,
             "#fb9f3a"
            ],
            [
             0.8888888888888888,
             "#fdca26"
            ],
            [
             1,
             "#f0f921"
            ]
           ],
           "sequentialminus": [
            [
             0,
             "#0d0887"
            ],
            [
             0.1111111111111111,
             "#46039f"
            ],
            [
             0.2222222222222222,
             "#7201a8"
            ],
            [
             0.3333333333333333,
             "#9c179e"
            ],
            [
             0.4444444444444444,
             "#bd3786"
            ],
            [
             0.5555555555555556,
             "#d8576b"
            ],
            [
             0.6666666666666666,
             "#ed7953"
            ],
            [
             0.7777777777777778,
             "#fb9f3a"
            ],
            [
             0.8888888888888888,
             "#fdca26"
            ],
            [
             1,
             "#f0f921"
            ]
           ]
          },
          "colorway": [
           "#636efa",
           "#EF553B",
           "#00cc96",
           "#ab63fa",
           "#FFA15A",
           "#19d3f3",
           "#FF6692",
           "#B6E880",
           "#FF97FF",
           "#FECB52"
          ],
          "font": {
           "color": "#2a3f5f"
          },
          "geo": {
           "bgcolor": "white",
           "lakecolor": "white",
           "landcolor": "#E5ECF6",
           "showlakes": true,
           "showland": true,
           "subunitcolor": "white"
          },
          "hoverlabel": {
           "align": "left"
          },
          "hovermode": "closest",
          "mapbox": {
           "style": "light"
          },
          "paper_bgcolor": "white",
          "plot_bgcolor": "#E5ECF6",
          "polar": {
           "angularaxis": {
            "gridcolor": "white",
            "linecolor": "white",
            "ticks": ""
           },
           "bgcolor": "#E5ECF6",
           "radialaxis": {
            "gridcolor": "white",
            "linecolor": "white",
            "ticks": ""
           }
          },
          "scene": {
           "xaxis": {
            "backgroundcolor": "#E5ECF6",
            "gridcolor": "white",
            "gridwidth": 2,
            "linecolor": "white",
            "showbackground": true,
            "ticks": "",
            "zerolinecolor": "white"
           },
           "yaxis": {
            "backgroundcolor": "#E5ECF6",
            "gridcolor": "white",
            "gridwidth": 2,
            "linecolor": "white",
            "showbackground": true,
            "ticks": "",
            "zerolinecolor": "white"
           },
           "zaxis": {
            "backgroundcolor": "#E5ECF6",
            "gridcolor": "white",
            "gridwidth": 2,
            "linecolor": "white",
            "showbackground": true,
            "ticks": "",
            "zerolinecolor": "white"
           }
          },
          "shapedefaults": {
           "line": {
            "color": "#2a3f5f"
           }
          },
          "ternary": {
           "aaxis": {
            "gridcolor": "white",
            "linecolor": "white",
            "ticks": ""
           },
           "baxis": {
            "gridcolor": "white",
            "linecolor": "white",
            "ticks": ""
           },
           "bgcolor": "#E5ECF6",
           "caxis": {
            "gridcolor": "white",
            "linecolor": "white",
            "ticks": ""
           }
          },
          "title": {
           "x": 0.05
          },
          "xaxis": {
           "automargin": true,
           "gridcolor": "white",
           "linecolor": "white",
           "ticks": "",
           "title": {
            "standoff": 15
           },
           "zerolinecolor": "white",
           "zerolinewidth": 2
          },
          "yaxis": {
           "automargin": true,
           "gridcolor": "white",
           "linecolor": "white",
           "ticks": "",
           "title": {
            "standoff": 15
           },
           "zerolinecolor": "white",
           "zerolinewidth": 2
          }
         }
        },
        "width": 600,
        "xaxis": {
         "anchor": "y",
         "domain": [
          0,
          1
         ],
         "title": {
          "text": "age"
         }
        },
        "yaxis": {
         "anchor": "x",
         "domain": [
          0,
          1
         ],
         "title": {
          "text": "annual_income"
         }
        }
       }
      }
     },
     "metadata": {},
     "output_type": "display_data"
    }
   ],
   "source": [
    "px.scatter(data_frame=X, x = 'age', y = 'annual_income',\n",
    "           width = 600,color = predictions)"
   ]
  },
  {
   "cell_type": "code",
   "execution_count": 22,
   "metadata": {},
   "outputs": [
    {
     "data": {
      "text/plain": [
       "[<matplotlib.lines.Line2D at 0x1baea7058e0>]"
      ]
     },
     "execution_count": 22,
     "metadata": {},
     "output_type": "execute_result"
    },
    {
     "data": {
      "image/png": "[encoded data removed]",
      "text/plain": [
       "<Figure size 640x480 with 1 Axes>"
      ]
     },
     "metadata": {},
     "output_type": "display_data"
    }
   ],
   "source": [
    "sns.scatterplot(data=X, x = 'annual_income', y = 'purchase_frequency', hue=predictions)\n",
    "centroid_x , centroid_y = model.cluster_centers_[:,0],model.cluster_centers_[:,2]\n",
    "plt.plot(centroid_x, centroid_y, 'ob')"
   ]
  },
  {
   "cell_type": "code",
   "execution_count": 23,
   "metadata": {},
   "outputs": [
    {
     "data": {
      "application/vnd.plotly.v1+json": {
       "config": {
        "plotlyServerURL": "https://plot.ly"
       },
       "data": [
        {
         "hovertemplate": "loyalty_score=%{x}<br>annual_income=%{y}<br>purchase_frequency=%{z}<br>color=%{marker.color}<extra></extra>",
         "legendgroup": "",
         "marker": {
          "color": [
           0,
           2,
           2,
           0,
           0,
           2,
           2,
           0,
           1,
           0,
           0,
           2,
           2,
           2,
           1,
           0,
           2,
           0,
           1,
           0,
           1,
           0,
           2,
           2,
           2,
           1,
           2,
           0,
           1,
           2,
           2,
           2,
           0,
           0,
           1,
           0,
           1,
           0,
           1,
           0,
           2,
           2,
           1,
           2,
           1,
           0,
           2,
           1,
           2,
           0,
           1,
           0,
           2,
           2,
           2,
           1,
           2,
           0,
           2,
           1,
           0,
           2,
           1,
           0,
           2,
           2,
           1,
           0,
           1,
           0,
           2,
           2,
           1,
           2,
           1,
           0,
           2,
           1,
           2,
           0,
           1,
           0,
           2,
           2,
           2,
           1,
           2,
           0,
           2,
           1,
           0,
           2,
           1,
           0,
           2,
           2,
           1,
           0,
           1,
           0,
           2,
           2,
           1,
           2,
           1,
           0,
           2,
           1,
           2,
           0,
           1,
           0,
           2,
           2,
           2,
           1,
           2,
           0,
           2,
           1,
           0,
           2,
           1,
           0,
           2,
           2,
           1,
           0,
           1,
           0,
           2,
           2,
           1,
           2,
           1,
           0,
           2,
           1,
           2,
           0,
           1,
           0,
           2,
           2,
           2,
           1,
           2,
           0,
           2,
           1,
           0,
           2,
           1,
           0,
           2,
           2,
           1,
           0,
           1,
           0,
           2,
           2,
           1,
           2,
           1,
           0,
           2,
           1,
           2,
           0,
           1,
           0,
           2,
           2,
           2,
           1,
           2,
           0,
           2,
           1,
           0,
           2,
           1,
           0,
           2,
           2,
           1,
           0,
           1,
           0,
           2,
           2,
           1,
           2,
           1,
           0,
           2,
           1,
           2,
           0,
           1,
           0,
           2,
           2,
           2,
           1,
           2,
           0,
           2,
           1,
           0,
           2,
           1,
           0,
           2,
           2,
           1,
           0,
           1,
           0,
           2,
           2,
           1,
           2,
           1,
           0,
           2,
           1,
           2,
           0,
           1,
           0,
           2,
           2,
           2,
           1,
           2,
           0
          ],
          "coloraxis": "coloraxis",
          "symbol": "circle"
         },
         "mode": "markers",
         "name": "",
         "scene": "scene",
         "showlegend": false,
         "type": "scatter3d",
         "x": [
          -1.2105823096741577,
          0.10864200215024501,
          0.6363317268800062,
          -2.0021168967687992,
          -1.0522753922552295,
          0.5307937819340538,
          -0.15520286021463553,
          -1.368889227093086,
          1.1640214516097673,
          -0.6828925849443966,
          -1.2633512821471338,
          0.741869671825958,
          -0.4190477225795161,
          0.0031040572042927016,
          1.1112524791367913,
          -1.896578951822847,
          0.10864200215024501,
          -0.9467374473092772,
          0.689100699352982,
          -1.31612025462011,
          1.269559396555719,
          -1.8438099793498712,
          0.3724868645151256,
          -0.3135097776335638,
          0.05587302967726909,
          0.7946386442989348,
          -0.5245856675254684,
          -1.1578133372011818,
          1.1640214516097673,
          0.21417994709619734,
          -0.15520286021463553,
          0.5307937819340538,
          -0.6828925849443966,
          -1.4744271720390383,
          1.4278663139746477,
          -1.2105823096741577,
          0.9001765892448866,
          -0.9467374473092772,
          1.322328369028696,
          -1.368889227093086,
          0.10864200215024501,
          0.0031040572042927016,
          0.689100699352982,
          -0.4190477225795161,
          1.269559396555719,
          -1.2633512821471338,
          0.5307937819340538,
          1.1640214516097673,
          -0.15520286021463553,
          -1.8438099793498712,
          1.1112524791367913,
          -1.31612025462011,
          0.6363317268800062,
          0.21417994709619734,
          0.05587302967726909,
          1.3750973415016718,
          -0.5245856675254684,
          -0.6301236124714207,
          0.741869671825958,
          1.4278663139746477,
          -1.31612025462011,
          -0.4190477225795161,
          1.1640214516097673,
          -1.4744271720390383,
          0.5307937819340538,
          0.4780248094610779,
          1.1640214516097673,
          -1.8438099793498712,
          0.9001765892448866,
          -0.9467374473092772,
          0.10864200215024501,
          0.0031040572042927016,
          0.689100699352982,
          -0.4190477225795161,
          1.269559396555719,
          -1.368889227093086,
          0.5307937819340538,
          1.1640214516097673,
          -0.15520286021463553,
          -1.8438099793498712,
          1.1112524791367913,
          -1.31612025462011,
          0.6363317268800062,
          0.21417994709619734,
          0.05587302967726909,
          1.3750973415016718,
          -0.5245856675254684,
          -0.6301236124714207,
          0.741869671825958,
          1.4278663139746477,
          -1.31612025462011,
          -0.4190477225795161,
          1.1640214516097673,
          -1.4744271720390383,
          0.5307937819340538,
          0.4780248094610779,
          1.1640214516097673,
          -1.8438099793498712,
          0.9001765892448866,
          -0.9467374473092772,
          0.10864200215024501,
          0.0031040572042927016,
          0.689100699352982,
          -0.4190477225795161,
          1.269559396555719,
          -1.368889227093086,
          0.5307937819340538,
          1.1640214516097673,
          -0.15520286021463553,
          -1.8438099793498712,
          1.1112524791367913,
          -1.31612025462011,
          0.6363317268800062,
          0.21417994709619734,
          0.05587302967726909,
          1.3750973415016718,
          -0.5245856675254684,
          -0.6301236124714207,
          0.741869671825958,
          1.4278663139746477,
          -1.31612025462011,
          -0.4190477225795161,
          1.1640214516097673,
          -1.4744271720390383,
          0.5307937819340538,
          0.4780248094610779,
          1.1640214516097673,
          -1.8438099793498712,
          0.9001765892448866,
          -0.9467374473092772,
          0.10864200215024501,
          0.0031040572042927016,
          0.689100699352982,
          -0.4190477225795161,
          1.269559396555719,
          -1.368889227093086,
          0.5307937819340538,
          1.1640214516097673,
          -0.15520286021463553,
          -1.8438099793498712,
          1.1112524791367913,
          -1.31612025462011,
          0.6363317268800062,
          0.21417994709619734,
          0.05587302967726909,
          1.3750973415016718,
          -0.5245856675254684,
          -0.6301236124714207,
          0.741869671825958,
          1.4278663139746477,
          -1.31612025462011,
          -0.4190477225795161,
          1.1640214516097673,
          -1.4744271720390383,
          0.5307937819340538,
          0.4780248094610779,
          1.1640214516097673,
          -1.8438099793498712,
          0.9001765892448866,
          -0.9467374473092772,
          0.10864200215024501,
          0.0031040572042927016,
          0.689100699352982,
          -0.4190477225795161,
          1.269559396555719,
          -1.368889227093086,
          0.5307937819340538,
          1.1640214516097673,
          -0.15520286021463553,
          -1.8438099793498712,
          1.1112524791367913,
          -1.31612025462011,
          0.6363317268800062,
          0.21417994709619734,
          0.05587302967726909,
          1.3750973415016718,
          -0.5245856675254684,
          -0.6301236124714207,
          0.741869671825958,
          1.4278663139746477,
          -1.31612025462011,
          -0.4190477225795161,
          1.1640214516097673,
          -1.4744271720390383,
          0.5307937819340538,
          0.4780248094610779,
          1.1640214516097673,
          -1.8438099793498712,
          0.9001765892448866,
          -0.9467374473092772,
          0.10864200215024501,
          0.0031040572042927016,
          0.689100699352982,
          -0.4190477225795161,
          1.269559396555719,
          -1.368889227093086,
          0.5307937819340538,
          1.1640214516097673,
          -0.15520286021463553,
          -1.8438099793498712,
          1.1112524791367913,
          -1.31612025462011,
          0.6363317268800062,
          0.21417994709619734,
          0.05587302967726909,
          1.3750973415016718,
          -0.5245856675254684,
          -0.6301236124714207,
          0.741869671825958,
          1.4278663139746477,
          -1.31612025462011,
          -0.4190477225795161,
          1.1640214516097673,
          -1.4744271720390383,
          0.5307937819340538,
          0.4780248094610779,
          1.1640214516097673,
          -1.8438099793498712,
          0.9001765892448866,
          -0.9467374473092772,
          0.10864200215024501,
          0.0031040572042927016,
          0.689100699352982,
          -0.4190477225795161,
          1.269559396555719,
          -1.368889227093086,
          0.5307937819340538,
          1.1640214516097673,
          -0.15520286021463553,
          -1.8438099793498712,
          1.1112524791367913,
          -1.31612025462011,
          0.6363317268800062,
          0.21417994709619734,
          0.05587302967726909,
          1.3750973415016718,
          -0.5245856675254684,
          -0.6301236124714207
         ],
         "y": [
          -1.0903057936276188,
          -0.2115628918891382,
          0.6671800098493424,
          -2.40842014623534,
          -0.9145572132799227,
          0.3156828491539502,
          -0.29943718206298625,
          -1.266054373975315,
          1.1065514607185827,
          -0.6509343427583786,
          -1.0024315034537707,
          0.40355713932779824,
          -0.3873114722368343,
          0.05205997863240598,
          1.0186771705447346,
          -2.3205458560614916,
          -0.03581431154144209,
          -0.7388086329322265,
          0.7550543000231905,
          -1.1781800838014669,
          1.2823000410662788,
          -2.2326715658876437,
          0.4914314295016463,
          -0.12368860171529014,
          0.13993426880625404,
          0.8429285901970386,
          -0.4751857624106824,
          -0.8266829231060746,
          1.1944257508924307,
          0.2278085589801021,
          -0.2115628918891382,
          0.5793057196754944,
          -0.6509343427583786,
          -1.266054373975315,
          1.545922911587823,
          -1.0903057936276188,
          0.9308028803708867,
          -0.7388086329322265,
          1.3701743312401269,
          -1.0024315034537707,
          -0.03581431154144209,
          0.05205997863240598,
          0.7550543000231905,
          -0.3873114722368343,
          1.2823000410662788,
          -0.9145572132799227,
          0.3156828491539502,
          1.1065514607185827,
          -0.29943718206298625,
          -2.2326715658876437,
          1.0186771705447346,
          -1.1781800838014669,
          0.6671800098493424,
          0.2278085589801021,
          0.13993426880625404,
          1.458048621413975,
          -0.4751857624106824,
          -0.5630600525845305,
          0.40355713932779824,
          1.545922911587823,
          -1.0024315034537707,
          -0.3873114722368343,
          1.1944257508924307,
          -1.266054373975315,
          0.4914314295016463,
          0.3156828491539502,
          1.1065514607185827,
          -2.2326715658876437,
          0.9308028803708867,
          -0.7388086329322265,
          -0.03581431154144209,
          0.05205997863240598,
          0.7550543000231905,
          -0.3873114722368343,
          1.2823000410662788,
          -1.0024315034537707,
          0.3156828491539502,
          1.1065514607185827,
          -0.29943718206298625,
          -2.2326715658876437,
          1.0186771705447346,
          -1.1781800838014669,
          0.6671800098493424,
          0.2278085589801021,
          0.13993426880625404,
          1.458048621413975,
          -0.4751857624106824,
          -0.5630600525845305,
          0.40355713932779824,
          1.545922911587823,
          -1.0024315034537707,
          -0.3873114722368343,
          1.1944257508924307,
          -1.266054373975315,
          0.4914314295016463,
          0.3156828491539502,
          1.1065514607185827,
          -2.2326715658876437,
          0.9308028803708867,
          -0.7388086329322265,
          -0.03581431154144209,
          0.05205997863240598,
          0.7550543000231905,
          -0.3873114722368343,
          1.2823000410662788,
          -1.0024315034537707,
          0.3156828491539502,
          1.1065514607185827,
          -0.29943718206298625,
          -2.2326715658876437,
          1.0186771705447346,
          -1.1781800838014669,
          0.6671800098493424,
          0.2278085589801021,
          0.13993426880625404,
          1.458048621413975,
          -0.4751857624106824,
          -0.5630600525845305,
          0.40355713932779824,
          1.545922911587823,
          -1.0024315034537707,
          -0.3873114722368343,
          1.1944257508924307,
          -1.266054373975315,
          0.4914314295016463,
          0.3156828491539502,
          1.1065514607185827,
          -2.2326715658876437,
          0.9308028803708867,
          -0.7388086329322265,
          -0.03581431154144209,
          0.05205997863240598,
          0.7550543000231905,
          -0.3873114722368343,
          1.2823000410662788,
          -1.0024315034537707,
          0.3156828491539502,
          1.1065514607185827,
          -0.29943718206298625,
          -2.2326715658876437,
          1.0186771705447346,
          -1.1781800838014669,
          0.6671800098493424,
          0.2278085589801021,
          0.13993426880625404,
          1.458048621413975,
          -0.4751857624106824,
          -0.5630600525845305,
          0.40355713932779824,
          1.545922911587823,
          -1.0024315034537707,
          -0.3873114722368343,
          1.1944257508924307,
          -1.266054373975315,
          0.4914314295016463,
          0.3156828491539502,
          1.1065514607185827,
          -2.2326715658876437,
          0.9308028803708867,
          -0.7388086329322265,
          -0.03581431154144209,
          0.05205997863240598,
          0.7550543000231905,
          -0.3873114722368343,
          1.2823000410662788,
          -1.0024315034537707,
          0.3156828491539502,
          1.1065514607185827,
          -0.29943718206298625,
          -2.2326715658876437,
          1.0186771705447346,
          -1.1781800838014669,
          0.6671800098493424,
          0.2278085589801021,
          0.13993426880625404,
          1.458048621413975,
          -0.4751857624106824,
          -0.5630600525845305,
          0.40355713932779824,
          1.545922911587823,
          -1.0024315034537707,
          -0.3873114722368343,
          1.1944257508924307,
          -1.266054373975315,
          0.4914314295016463,
          0.3156828491539502,
          1.1065514607185827,
          -2.2326715658876437,
          0.9308028803708867,
          -0.7388086329322265,
          -0.03581431154144209,
          0.05205997863240598,
          0.7550543000231905,
          -0.3873114722368343,
          1.2823000410662788,
          -1.0024315034537707,
          0.3156828491539502,
          1.1065514607185827,
          -0.29943718206298625,
          -2.2326715658876437,
          1.0186771705447346,
          -1.1781800838014669,
          0.6671800098493424,
          0.2278085589801021,
          0.13993426880625404,
          1.458048621413975,
          -0.4751857624106824,
          -0.5630600525845305,
          0.40355713932779824,
          1.545922911587823,
          -1.0024315034537707,
          -0.3873114722368343,
          1.1944257508924307,
          -1.266054373975315,
          0.4914314295016463,
          0.3156828491539502,
          1.1065514607185827,
          -2.2326715658876437,
          0.9308028803708867,
          -0.7388086329322265,
          -0.03581431154144209,
          0.05205997863240598,
          0.7550543000231905,
          -0.3873114722368343,
          1.2823000410662788,
          -1.0024315034537707,
          0.3156828491539502,
          1.1065514607185827,
          -0.29943718206298625,
          -2.2326715658876437,
          1.0186771705447346,
          -1.1781800838014669,
          0.6671800098493424,
          0.2278085589801021,
          0.13993426880625404,
          1.458048621413975,
          -0.4751857624106824,
          -0.5630600525845305
         ],
         "z": [
          -1.7126785852739663,
          -0.39494958755240184,
          0.48353641092864114,
          -2.1519215845144877,
          -1.4930570856537055,
          0.2639149113083804,
          -0.17532808793214108,
          -1.2734355860334448,
          1.1424009097894234,
          -0.6145710871726626,
          -1.053814086413184,
          0.7031579105489019,
          -0.39494958755240184,
          0.044293411688119656,
          0.9227794101691627,
          -1.932300084894227,
          0.2639149113083804,
          -0.8341925867929233,
          0.48353641092864114,
          -1.2734355860334448,
          1.3620224094096842,
          -1.7126785852739663,
          0.2639149113083804,
          -0.17532808793214108,
          0.044293411688119656,
          0.7031579105489019,
          -0.39494958755240184,
          -1.053814086413184,
          1.1424009097894234,
          0.48353641092864114,
          -0.17532808793214108,
          0.2639149113083804,
          -0.8341925867929233,
          -1.2734355860334448,
          1.8012654086502056,
          -1.7126785852739663,
          0.9227794101691627,
          -0.6145710871726626,
          1.5816439090299448,
          -1.2734355860334448,
          0.2639149113083804,
          0.044293411688119656,
          0.48353641092864114,
          -0.39494958755240184,
          1.3620224094096842,
          -1.4930570856537055,
          0.2639149113083804,
          1.1424009097894234,
          -0.17532808793214108,
          -1.932300084894227,
          0.9227794101691627,
          -1.2734355860334448,
          0.48353641092864114,
          0.044293411688119656,
          0.044293411688119656,
          1.5816439090299448,
          -0.39494958755240184,
          -0.6145710871726626,
          0.7031579105489019,
          1.8012654086502056,
          -1.053814086413184,
          -0.39494958755240184,
          1.1424009097894234,
          -1.2734355860334448,
          0.2639149113083804,
          0.48353641092864114,
          1.1424009097894234,
          -1.932300084894227,
          0.9227794101691627,
          -0.8341925867929233,
          0.2639149113083804,
          0.044293411688119656,
          0.48353641092864114,
          -0.39494958755240184,
          1.3620224094096842,
          -1.2734355860334448,
          0.2639149113083804,
          1.1424009097894234,
          -0.17532808793214108,
          -1.932300084894227,
          0.9227794101691627,
          -1.2734355860334448,
          0.48353641092864114,
          0.044293411688119656,
          0.044293411688119656,
          1.5816439090299448,
          -0.39494958755240184,
          -0.6145710871726626,
          0.7031579105489019,
          1.8012654086502056,
          -1.053814086413184,
          -0.39494958755240184,
          1.1424009097894234,
          -1.2734355860334448,
          0.2639149113083804,
          0.48353641092864114,
          1.1424009097894234,
          -1.932300084894227,
          0.9227794101691627,
          -0.8341925867929233,
          0.2639149113083804,
          0.044293411688119656,
          0.48353641092864114,
          -0.39494958755240184,
          1.3620224094096842,
          -1.2734355860334448,
          0.2639149113083804,
          1.1424009097894234,
          -0.17532808793214108,
          -1.932300084894227,
          0.9227794101691627,
          -1.2734355860334448,
          0.48353641092864114,
          0.044293411688119656,
          0.044293411688119656,
          1.5816439090299448,
          -0.39494958755240184,
          -0.6145710871726626,
          0.7031579105489019,
          1.8012654086502056,
          -1.053814086413184,
          -0.39494958755240184,
          1.1424009097894234,
          -1.2734355860334448,
          0.2639149113083804,
          0.48353641092864114,
          1.1424009097894234,
          -1.932300084894227,
          0.9227794101691627,
          -0.8341925867929233,
          0.2639149113083804,
          0.044293411688119656,
          0.48353641092864114,
          -0.39494958755240184,
          1.3620224094096842,
          -1.2734355860334448,
          0.2639149113083804,
          1.1424009097894234,
          -0.17532808793214108,
          -1.932300084894227,
          0.9227794101691627,
          -1.2734355860334448,
          0.48353641092864114,
          0.044293411688119656,
          0.044293411688119656,
          1.5816439090299448,
          -0.39494958755240184,
          -0.6145710871726626,
          0.7031579105489019,
          1.8012654086502056,
          -1.053814086413184,
          -0.39494958755240184,
          1.1424009097894234,
          -1.2734355860334448,
          0.2639149113083804,
          0.48353641092864114,
          1.1424009097894234,
          -1.932300084894227,
          0.9227794101691627,
          -0.8341925867929233,
          0.2639149113083804,
          0.044293411688119656,
          0.48353641092864114,
          -0.39494958755240184,
          1.3620224094096842,
          -1.2734355860334448,
          0.2639149113083804,
          1.1424009097894234,
          -0.17532808793214108,
          -1.932300084894227,
          0.9227794101691627,
          -1.2734355860334448,
          0.48353641092864114,
          0.044293411688119656,
          0.044293411688119656,
          1.5816439090299448,
          -0.39494958755240184,
          -0.6145710871726626,
          0.7031579105489019,
          1.8012654086502056,
          -1.053814086413184,
          -0.39494958755240184,
          1.1424009097894234,
          -1.2734355860334448,
          0.2639149113083804,
          0.48353641092864114,
          1.1424009097894234,
          -1.932300084894227,
          0.9227794101691627,
          -0.8341925867929233,
          0.2639149113083804,
          0.044293411688119656,
          0.48353641092864114,
          -0.39494958755240184,
          1.3620224094096842,
          -1.2734355860334448,
          0.2639149113083804,
          1.1424009097894234,
          -0.17532808793214108,
          -1.932300084894227,
          0.9227794101691627,
          -1.2734355860334448,
          0.48353641092864114,
          0.044293411688119656,
          0.044293411688119656,
          1.5816439090299448,
          -0.39494958755240184,
          -0.6145710871726626,
          0.7031579105489019,
          1.8012654086502056,
          -1.053814086413184,
          -0.39494958755240184,
          1.1424009097894234,
          -1.2734355860334448,
          0.2639149113083804,
          0.48353641092864114,
          1.1424009097894234,
          -1.932300084894227,
          0.9227794101691627,
          -0.8341925867929233,
          0.2639149113083804,
          0.044293411688119656,
          0.48353641092864114,
          -0.39494958755240184,
          1.3620224094096842,
          -1.2734355860334448,
          0.2639149113083804,
          1.1424009097894234,
          -0.17532808793214108,
          -1.932300084894227,
          0.9227794101691627,
          -1.2734355860334448,
          0.48353641092864114,
          0.044293411688119656,
          0.044293411688119656,
          1.5816439090299448,
          -0.39494958755240184,
          -0.6145710871726626
         ]
        }
       ],
       "layout": {
        "coloraxis": {
         "colorbar": {
          "title": {
           "text": "color"
          }
         },
         "colorscale": [
          [
           0,
           "#0d0887"
          ],
          [
           0.1111111111111111,
           "#46039f"
          ],
          [
           0.2222222222222222,
           "#7201a8"
          ],
          [
           0.3333333333333333,
           "#9c179e"
          ],
          [
           0.4444444444444444,
           "#bd3786"
          ],
          [
           0.5555555555555556,
           "#d8576b"
          ],
          [
           0.6666666666666666,
           "#ed7953"
          ],
          [
           0.7777777777777778,
           "#fb9f3a"
          ],
          [
           0.8888888888888888,
           "#fdca26"
          ],
          [
           1,
           "#f0f921"
          ]
         ]
        },
        "legend": {
         "tracegroupgap": 0
        },
        "margin": {
         "t": 60
        },
        "scene": {
         "domain": {
          "x": [
           0,
           1
          ],
          "y": [
           0,
           1
          ]
         },
         "xaxis": {
          "title": {
           "text": "loyalty_score"
          }
         },
         "yaxis": {
          "title": {
           "text": "annual_income"
          }
         },
         "zaxis": {
          "title": {
           "text": "purchase_frequency"
          }
         }
        },
        "template": {
         "data": {
          "bar": [
           {
            "error_x": {
             "color": "#2a3f5f"
            },
            "error_y": {
             "color": "#2a3f5f"
            },
            "marker": {
             "line": {
              "color": "#E5ECF6",
              "width": 0.5
             },
             "pattern": {
              "fillmode": "overlay",
              "size": 10,
              "solidity": 0.2
             }
            },
            "type": "bar"
           }
          ],
          "barpolar": [
           {
            "marker": {
             "line": {
              "color": "#E5ECF6",
              "width": 0.5
             },
             "pattern": {
              "fillmode": "overlay",
              "size": 10,
              "solidity": 0.2
             }
            },
            "type": "barpolar"
           }
          ],
          "carpet": [
           {
            "aaxis": {
             "endlinecolor": "#2a3f5f",
             "gridcolor": "white",
             "linecolor": "white",
             "minorgridcolor": "white",
             "startlinecolor": "#2a3f5f"
            },
            "baxis": {
             "endlinecolor": "#2a3f5f",
             "gridcolor": "white",
             "linecolor": "white",
             "minorgridcolor": "white",
             "startlinecolor": "#2a3f5f"
            },
            "type": "carpet"
           }
          ],
          "choropleth": [
           {
            "colorbar": {
             "outlinewidth": 0,
             "ticks": ""
            },
            "type": "choropleth"
           }
          ],
          "contour": [
           {
            "colorbar": {
             "outlinewidth": 0,
             "ticks": ""
            },
            "colorscale": [
             [
              0,
              "#0d0887"
             ],
             [
              0.1111111111111111,
              "#46039f"
             ],
             [
              0.2222222222222222,
              "#7201a8"
             ],
             [
              0.3333333333333333,
              "#9c179e"
             ],
             [
              0.4444444444444444,
              "#bd3786"
             ],
             [
              0.5555555555555556,
              "#d8576b"
             ],
             [
              0.6666666666666666,
              "#ed7953"
             ],
             [
              0.7777777777777778,
              "#fb9f3a"
             ],
             [
              0.8888888888888888,
              "#fdca26"
             ],
             [
              1,
              "#f0f921"
             ]
            ],
            "type": "contour"
           }
          ],
          "contourcarpet": [
           {
            "colorbar": {
             "outlinewidth": 0,
             "ticks": ""
            },
            "type": "contourcarpet"
           }
          ],
          "heatmap": [
           {
            "colorbar": {
             "outlinewidth": 0,
             "ticks": ""
            },
            "colorscale": [
             [
              0,
              "#0d0887"
             ],
             [
              0.1111111111111111,
              "#46039f"
             ],
             [
              0.2222222222222222,
              "#7201a8"
             ],
             [
              0.3333333333333333,
              "#9c179e"
             ],
             [
              0.4444444444444444,
              "#bd3786"
             ],
             [
              0.5555555555555556,
              "#d8576b"
             ],
             [
              0.6666666666666666,
              "#ed7953"
             ],
             [
              0.7777777777777778,
              "#fb9f3a"
             ],
             [
              0.8888888888888888,
              "#fdca26"
             ],
             [
              1,
              "#f0f921"
             ]
            ],
            "type": "heatmap"
           }
          ],
          "heatmapgl": [
           {
            "colorbar": {
             "outlinewidth": 0,
             "ticks": ""
            },
            "colorscale": [
             [
              0,
              "#0d0887"
             ],
             [
              0.1111111111111111,
              "#46039f"
             ],
             [
              0.2222222222222222,
              "#7201a8"
             ],
             [
              0.3333333333333333,
              "#9c179e"
             ],
             [
              0.4444444444444444,
              "#bd3786"
             ],
             [
              0.5555555555555556,
              "#d8576b"
             ],
             [
              0.6666666666666666,
              "#ed7953"
             ],
             [
              0.7777777777777778,
              "#fb9f3a"
             ],
             [
              0.8888888888888888,
              "#fdca26"
             ],
             [
              1,
              "#f0f921"
             ]
            ],
            "type": "heatmapgl"
           }
          ],
          "histogram": [
           {
            "marker": {
             "pattern": {
              "fillmode": "overlay",
              "size": 10,
              "solidity": 0.2
             }
            },
            "type": "histogram"
           }
          ],
          "histogram2d": [
           {
            "colorbar": {
             "outlinewidth": 0,
             "ticks": ""
            },
            "colorscale": [
             [
              0,
              "#0d0887"
             ],
             [
              0.1111111111111111,
              "#46039f"
             ],
             [
              0.2222222222222222,
              "#7201a8"
             ],
             [
              0.3333333333333333,
              "#9c179e"
             ],
             [
              0.4444444444444444,
              "#bd3786"
             ],
             [
              0.5555555555555556,
              "#d8576b"
             ],
             [
              0.6666666666666666,
              "#ed7953"
             ],
             [
              0.7777777777777778,
              "#fb9f3a"
             ],
             [
              0.8888888888888888,
              "#fdca26"
             ],
             [
              1,
              "#f0f921"
             ]
            ],
            "type": "histogram2d"
           }
          ],
          "histogram2dcontour": [
           {
            "colorbar": {
             "outlinewidth": 0,
             "ticks": ""
            },
            "colorscale": [
             [
              0,
              "#0d0887"
             ],
             [
              0.1111111111111111,
              "#46039f"
             ],
             [
              0.2222222222222222,
              "#7201a8"
             ],
             [
              0.3333333333333333,
              "#9c179e"
             ],
             [
              0.4444444444444444,
              "#bd3786"
             ],
             [
              0.5555555555555556,
              "#d8576b"
             ],
             [
              0.6666666666666666,
              "#ed7953"
             ],
             [
              0.7777777777777778,
              "#fb9f3a"
             ],
             [
              0.8888888888888888,
              "#fdca26"
             ],
             [
              1,
              "#f0f921"
             ]
            ],
            "type": "histogram2dcontour"
           }
          ],
          "mesh3d": [
           {
            "colorbar": {
             "outlinewidth": 0,
             "ticks": ""
            },
            "type": "mesh3d"
           }
          ],
          "parcoords": [
           {
            "line": {
             "colorbar": {
              "outlinewidth": 0,
              "ticks": ""
             }
            },
            "type": "parcoords"
           }
          ],
          "pie": [
           {
            "automargin": true,
            "type": "pie"
           }
          ],
          "scatter": [
           {
            "fillpattern": {
             "fillmode": "overlay",
             "size": 10,
             "solidity": 0.2
            },
            "type": "scatter"
           }
          ],
          "scatter3d": [
           {
            "line": {
             "colorbar": {
              "outlinewidth": 0,
              "ticks": ""
             }
            },
            "marker": {
             "colorbar": {
              "outlinewidth": 0,
              "ticks": ""
             }
            },
            "type": "scatter3d"
           }
          ],
          "scattercarpet": [
           {
            "marker": {
             "colorbar": {
              "outlinewidth": 0,
              "ticks": ""
             }
            },
            "type": "scattercarpet"
           }
          ],
          "scattergeo": [
           {
            "marker": {
             "colorbar": {
              "outlinewidth": 0,
              "ticks": ""
             }
            },
            "type": "scattergeo"
           }
          ],
          "scattergl": [
           {
            "marker": {
             "colorbar": {
              "outlinewidth": 0,
              "ticks": ""
             }
            },
            "type": "scattergl"
           }
          ],
          "scattermapbox": [
           {
            "marker": {
             "colorbar": {
              "outlinewidth": 0,
              "ticks": ""
             }
            },
            "type": "scattermapbox"
           }
          ],
          "scatterpolar": [
           {
            "marker": {
             "colorbar": {
              "outlinewidth": 0,
              "ticks": ""
             }
            },
            "type": "scatterpolar"
           }
          ],
          "scatterpolargl": [
           {
            "marker": {
             "colorbar": {
              "outlinewidth": 0,
              "ticks": ""
             }
            },
            "type": "scatterpolargl"
           }
          ],
          "scatterternary": [
           {
            "marker": {
             "colorbar": {
              "outlinewidth": 0,
              "ticks": ""
             }
            },
            "type": "scatterternary"
           }
          ],
          "surface": [
           {
            "colorbar": {
             "outlinewidth": 0,
             "ticks": ""
            },
            "colorscale": [
             [
              0,
              "#0d0887"
             ],
             [
              0.1111111111111111,
              "#46039f"
             ],
             [
              0.2222222222222222,
              "#7201a8"
             ],
             [
              0.3333333333333333,
              "#9c179e"
             ],
             [
              0.4444444444444444,
              "#bd3786"
             ],
             [
              0.5555555555555556,
              "#d8576b"
             ],
             [
              0.6666666666666666,
              "#ed7953"
             ],
             [
              0.7777777777777778,
              "#fb9f3a"
             ],
             [
              0.8888888888888888,
              "#fdca26"
             ],
             [
              1,
              "#f0f921"
             ]
            ],
            "type": "surface"
           }
          ],
          "table": [
           {
            "cells": {
             "fill": {
              "color": "#EBF0F8"
             },
             "line": {
              "color": "white"
             }
            },
            "header": {
             "fill": {
              "color": "#C8D4E3"
             },
             "line": {
              "color": "white"
             }
            },
            "type": "table"
           }
          ]
         },
         "layout": {
          "annotationdefaults": {
           "arrowcolor": "#2a3f5f",
           "arrowhead": 0,
           "arrowwidth": 1
          },
          "autotypenumbers": "strict",
          "coloraxis": {
           "colorbar": {
            "outlinewidth": 0,
            "ticks": ""
           }
          },
          "colorscale": {
           "diverging": [
            [
             0,
             "#8e0152"
            ],
            [
             0.1,
             "#c51b7d"
            ],
            [
             0.2,
             "#de77ae"
            ],
            [
             0.3,
             "#f1b6da"
            ],
            [
             0.4,
             "#fde0ef"
            ],
            [
             0.5,
             "#f7f7f7"
            ],
            [
             0.6,
             "#e6f5d0"
            ],
            [
             0.7,
             "#b8e186"
            ],
            [
             0.8,
             "#7fbc41"
            ],
            [
             0.9,
             "#4d9221"
            ],
            [
             1,
             "#276419"
            ]
           ],
           "sequential": [
            [
             0,
             "#0d0887"
            ],
            [
             0.1111111111111111,
             "#46039f"
            ],
            [
             0.2222222222222222,
             "#7201a8"
            ],
            [
             0.3333333333333333,
             "#9c179e"
            ],
            [
             0.4444444444444444,
             "#bd3786"
            ],
            [
             0.5555555555555556,
             "#d8576b"
            ],
            [
             0.6666666666666666,
             "#ed7953"
            ],
            [
             0.7777777777777778,
             "#fb9f3a"
            ],
            [
             0.8888888888888888,
             "#fdca26"
            ],
            [
             1,
             "#f0f921"
            ]
           ],
           "sequentialminus": [
            [
             0,
             "#0d0887"
            ],
            [
             0.1111111111111111,
             "#46039f"
            ],
            [
             0.2222222222222222,
             "#7201a8"
            ],
            [
             0.3333333333333333,
             "#9c179e"
            ],
            [
             0.4444444444444444,
             "#bd3786"
            ],
            [
             0.5555555555555556,
             "#d8576b"
            ],
            [
             0.6666666666666666,
             "#ed7953"
            ],
            [
             0.7777777777777778,
             "#fb9f3a"
            ],
            [
             0.8888888888888888,
             "#fdca26"
            ],
            [
             1,
             "#f0f921"
            ]
           ]
          },
          "colorway": [
           "#636efa",
           "#EF553B",
           "#00cc96",
           "#ab63fa",
           "#FFA15A",
           "#19d3f3",
           "#FF6692",
           "#B6E880",
           "#FF97FF",
           "#FECB52"
          ],
          "font": {
           "color": "#2a3f5f"
          },
          "geo": {
           "bgcolor": "white",
           "lakecolor": "white",
           "landcolor": "#E5ECF6",
           "showlakes": true,
           "showland": true,
           "subunitcolor": "white"
          },
          "hoverlabel": {
           "align": "left"
          },
          "hovermode": "closest",
          "mapbox": {
           "style": "light"
          },
          "paper_bgcolor": "white",
          "plot_bgcolor": "#E5ECF6",
          "polar": {
           "angularaxis": {
            "gridcolor": "white",
            "linecolor": "white",
            "ticks": ""
           },
           "bgcolor": "#E5ECF6",
           "radialaxis": {
            "gridcolor": "white",
            "linecolor": "white",
            "ticks": ""
           }
          },
          "scene": {
           "xaxis": {
            "backgroundcolor": "#E5ECF6",
            "gridcolor": "white",
            "gridwidth": 2,
            "linecolor": "white",
            "showbackground": true,
            "ticks": "",
            "zerolinecolor": "white"
           },
           "yaxis": {
            "backgroundcolor": "#E5ECF6",
            "gridcolor": "white",
            "gridwidth": 2,
            "linecolor": "white",
            "showbackground": true,
            "ticks": "",
            "zerolinecolor": "white"
           },
           "zaxis": {
            "backgroundcolor": "#E5ECF6",
            "gridcolor": "white",
            "gridwidth": 2,
            "linecolor": "white",
            "showbackground": true,
            "ticks": "",
            "zerolinecolor": "white"
           }
          },
          "shapedefaults": {
           "line": {
            "color": "#2a3f5f"
           }
          },
          "ternary": {
           "aaxis": {
            "gridcolor": "white",
            "linecolor": "white",
            "ticks": ""
           },
           "baxis": {
            "gridcolor": "white",
            "linecolor": "white",
            "ticks": ""
           },
           "bgcolor": "#E5ECF6",
           "caxis": {
            "gridcolor": "white",
            "linecolor": "white",
            "ticks": ""
           }
          },
          "title": {
           "x": 0.05
          },
          "xaxis": {
           "automargin": true,
           "gridcolor": "white",
           "linecolor": "white",
           "ticks": "",
           "title": {
            "standoff": 15
           },
           "zerolinecolor": "white",
           "zerolinewidth": 2
          },
          "yaxis": {
           "automargin": true,
           "gridcolor": "white",
           "linecolor": "white",
           "ticks": "",
           "title": {
            "standoff": 15
           },
           "zerolinecolor": "white",
           "zerolinewidth": 2
          }
         }
        },
        "width": 600
       }
      }
     },
     "metadata": {},
     "output_type": "display_data"
    }
   ],
   "source": [
    "\n",
    "px.scatter_3d(data_frame = X, x='loyalty_score', y = 'annual_income',\n",
    "              z = 'purchase_frequency', width = 600, color = predictions)"
   ]
  },
  {
   "cell_type": "code",
   "execution_count": 24,
   "metadata": {},
   "outputs": [
    {
     "name": "stdout",
     "output_type": "stream",
     "text": [
      "Silhouette Score: 0.5635883076778309\n"
     ]
    }
   ],
   "source": [
    "# Calculate silhouette score\n",
    "silhouette_avg = silhouette_score(X.drop(columns=['Cluster']), X['Cluster'])\n",
    "print(f'Silhouette Score: {silhouette_avg}')"
   ]
  },
  {
   "cell_type": "code",
   "execution_count": 25,
   "metadata": {},
   "outputs": [
    {
     "name": "stdout",
     "output_type": "stream",
     "text": [
      "              age  annual_income  purchase_amount  loyalty_score  \\\n",
      "Cluster                                                            \n",
      "0       -1.215056      -1.258301        -1.297716      -1.322328   \n",
      "1        1.263910       1.147904         1.181368       1.132981   \n",
      "2       -0.032570       0.073598         0.077565       0.126232   \n",
      "\n",
      "         purchase_frequency  \n",
      "Cluster                      \n",
      "0                 -1.283125  \n",
      "1                  1.155320  \n",
      "2                  0.085203  \n"
     ]
    }
   ],
   "source": [
    "# Calculate the mean values of each cluster\n",
    "X['Cluster'] = model.labels_\n",
    "cluster_summary = X.groupby('Cluster').mean()\n",
    "print(cluster_summary)"
   ]
  },
  {
   "cell_type": "markdown",
   "metadata": {},
   "source": [
    "\n",
    "<b>\n",
    "\n",
    " Cluster 0 \n",
    "\n",
    "Represents low-income customers who also have low spending habits and loyalty scores.\n",
    "\n",
    "Cluster 1 \n",
    "\n",
    "Indicates high-income customers who are more loyal and spend more frequently.\n",
    "\n",
    "Cluster 2 \n",
    "\n",
    "Represents a balanced group that does not strongly lean towards high or low spending.<b/>\n"
   ]
  },
  {
   "cell_type": "markdown",
   "metadata": {},
   "source": []
  }
 ],
 "metadata": {
  "kernelspec": {
   "display_name": "base",
   "language": "python",
   "name": "python3"
  },
  "language_info": {
   "codemirror_mode": {
    "name": "ipython",
    "version": 3
   },
   "file_extension": ".py",
   "mimetype": "text/x-python",
   "name": "python",
   "nbconvert_exporter": "python",
   "pygments_lexer": "ipython3",
   "version": "3.12.7"
  }
 },
 "nbformat": 4,
 "nbformat_minor": 2
}
